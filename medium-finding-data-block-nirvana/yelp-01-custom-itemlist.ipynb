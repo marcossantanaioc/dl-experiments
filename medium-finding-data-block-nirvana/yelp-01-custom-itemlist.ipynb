{
 "cells": [
  {
   "cell_type": "markdown",
   "metadata": {},
   "source": [
    "# Finding Data Block Nirvana - Part 2\n",
    "\n",
    "This notebook illustrates how to use the custom fastai `ItemList` we created in part 1.  It is heavily annotated to further aid in also understanding how all the different bits in the API interact as well as what is happening at each step and why.\n",
    "\n",
    "Please consult the [fastai docs](https://docs.fast.ai/) for installing required packages and setting up your environment to run the code below.\n",
    "\n",
    "The accompanying Medium article highlighing the data block API mechanics based on my work here can be found [here](https://medium.com/@wgilliam/finding-data-block-nirvana-a-journey-through-the-fastai-data-block-api-c38210537fe4)."
   ]
  },
  {
   "cell_type": "code",
   "execution_count": 1,
   "metadata": {},
   "outputs": [],
   "source": [
    "%reload_ext autoreload\n",
    "%autoreload 2\n",
    "%matplotlib inline"
   ]
  },
  {
   "cell_type": "code",
   "execution_count": 2,
   "metadata": {},
   "outputs": [],
   "source": [
    "import pdb\n",
    "\n",
    "from fastai.tabular import *\n",
    "from fastai.text import *\n",
    "from fastai.text.data import _join_texts\n",
    "\n",
    "from utils import *\n",
    "\n",
    "# pandas and plotting config\n",
    "import seaborn as sns\n",
    "sns.set_style('whitegrid')\n",
    "\n",
    "%matplotlib inline\n",
    "plt.rcParams['figure.figsize'] = (9,6)\n",
    "\n",
    "pd.set_option('display.max_rows', 500)\n",
    "pd.set_option('display.max_columns', 500)\n",
    "pd.set_option('display.width', 1000)\n",
    "pd.set_option('display.max_colwidth', 100)"
   ]
  },
  {
   "cell_type": "code",
   "execution_count": 3,
   "metadata": {},
   "outputs": [
    {
     "name": "stdout",
     "output_type": "stream",
     "text": [
      "using GPU: 1\n"
     ]
    }
   ],
   "source": [
    "torch.cuda.set_device(1)\n",
    "print(f'using GPU: {torch.cuda.current_device()}')"
   ]
  },
  {
   "cell_type": "code",
   "execution_count": 4,
   "metadata": {},
   "outputs": [
    {
     "name": "stdout",
     "output_type": "stream",
     "text": [
      "fastai version: 1.0.59\n"
     ]
    }
   ],
   "source": [
    "print(f'fastai version: {__version__}') #=> I test this against 1.0.59"
   ]
  },
  {
   "cell_type": "markdown",
   "metadata": {},
   "source": [
    "## Configuration"
   ]
  },
  {
   "cell_type": "code",
   "execution_count": 5,
   "metadata": {},
   "outputs": [],
   "source": [
    "PATH=Path('data/yelp_dataset/')\n",
    "\n",
    "PATH.mkdir(parents=True, exist_ok=True)\n",
    "(PATH/'models').mkdir(parents=True, exist_ok=True)\n",
    "(PATH/'tmp').mkdir(exist_ok=True)"
   ]
  },
  {
   "cell_type": "markdown",
   "metadata": {},
   "source": [
    "## Utility methods"
   ]
  },
  {
   "cell_type": "code",
   "execution_count": 6,
   "metadata": {},
   "outputs": [],
   "source": [
    "def join_df(left, right, left_on, right_on=None, suffix='_y'):\n",
    "    if (right_on is None): right_on = left_on\n",
    "    return left.merge(right, how='left', left_on=left_on, right_on=right_on, suffixes=(\"\", suffix))"
   ]
  },
  {
   "cell_type": "code",
   "execution_count": 7,
   "metadata": {},
   "outputs": [],
   "source": [
    "def advanced_describe(df):\n",
    "    # get descriptive stats for dataframe for 'all' column dtypes\n",
    "    desc = df.describe(include='all').T\n",
    "    desc.drop(['top', 'freq', 'unique'], axis=1, inplace=True)\n",
    "    \n",
    "    # update column counts (df.describe() returns NaN for non-numeric cols)\n",
    "    counts = pd.Series({ col: df[col].count() for col in df.columns })\n",
    "    desc.update(counts.to_frame('count'))\n",
    "    \n",
    "    # add missing count/%\n",
    "    missings = df.isnull().sum()\n",
    "    desc = pd.concat([desc, missings.to_frame('missing')], axis=1, sort=True)\n",
    "    desc['missing%'] = (desc['missing'] / len(desc)).round(2)\n",
    "\n",
    "    # add unique counts/%\n",
    "    uniques = pd.Series({ col: len(df[col].unique()) for col in df.columns })\n",
    "    desc = pd.concat([desc, uniques.to_frame('unique')], axis=1, sort=True)\n",
    "    desc['unique%'] = (desc['unique'] / len(desc)).round(2)\n",
    "    \n",
    "    unique_vals = pd.Series({ col: df[col].unique() for col in df.columns if len(df[col].unique()) < 20 })\n",
    "    desc = pd.concat([desc, unique_vals.to_frame('unique_values')], axis=1, sort=True)\n",
    "    \n",
    "    # add col dtype\n",
    "    dtypes = pd.Series({ col: df[col].dtype for col in df.columns })\n",
    "    desc = pd.concat([desc, dtypes.to_frame('dtype')], axis=1, sort=True)\n",
    "    \n",
    "    return desc\n",
    "\n",
    "\n",
    "######################### Data Cleaning and Preparation ###############\n",
    "\n",
    "def fillna_by_group(df, target_col, group_cols, agg='median'):\n",
    "    df[target_col] = df.groupby(group_cols)[target_col].transform(lambda x: x.fillna(eval(f'x.{agg}()')))\n",
    "\n",
    "\n",
    "######################### Feature Engineering ######################### \n",
    "\n",
    "def add_by_regex(df, target_col, new_col, regex):\n",
    "        df[new_col] = df[target_col].str.extract(regex, expand=False)"
   ]
  },
  {
   "cell_type": "code",
   "execution_count": null,
   "metadata": {},
   "outputs": [],
   "source": []
  },
  {
   "cell_type": "markdown",
   "metadata": {},
   "source": [
    "## Prepare data for training/evaluation"
   ]
  },
  {
   "cell_type": "code",
   "execution_count": 8,
   "metadata": {
    "scrolled": false
   },
   "outputs": [
    {
     "data": {
      "text/plain": [
       "10000"
      ]
     },
     "metadata": {},
     "output_type": "display_data"
    },
    {
     "data": {
      "text/html": [
       "<div>\n",
       "<style scoped>\n",
       "    .dataframe tbody tr th:only-of-type {\n",
       "        vertical-align: middle;\n",
       "    }\n",
       "\n",
       "    .dataframe tbody tr th {\n",
       "        vertical-align: top;\n",
       "    }\n",
       "\n",
       "    .dataframe thead th {\n",
       "        text-align: right;\n",
       "    }\n",
       "</style>\n",
       "<table border=\"1\" class=\"dataframe\">\n",
       "  <thead>\n",
       "    <tr style=\"text-align: right;\">\n",
       "      <th></th>\n",
       "      <th>business_id</th>\n",
       "      <th>cool</th>\n",
       "      <th>date</th>\n",
       "      <th>funny</th>\n",
       "      <th>review_id</th>\n",
       "      <th>stars</th>\n",
       "      <th>text</th>\n",
       "      <th>useful</th>\n",
       "      <th>user_id</th>\n",
       "      <th>user_average_stars</th>\n",
       "      <th>user_compliment_cool</th>\n",
       "      <th>user_compliment_cute</th>\n",
       "      <th>user_compliment_funny</th>\n",
       "      <th>user_compliment_hot</th>\n",
       "      <th>user_compliment_list</th>\n",
       "      <th>user_compliment_more</th>\n",
       "      <th>user_compliment_note</th>\n",
       "      <th>user_compliment_photos</th>\n",
       "      <th>user_compliment_plain</th>\n",
       "      <th>user_compliment_profile</th>\n",
       "      <th>user_compliment_writer</th>\n",
       "      <th>user_cool</th>\n",
       "      <th>user_elite</th>\n",
       "      <th>user_fans</th>\n",
       "      <th>user_friends</th>\n",
       "      <th>user_funny</th>\n",
       "      <th>user_name</th>\n",
       "      <th>user_review_count</th>\n",
       "      <th>user_useful</th>\n",
       "      <th>user_yelping_since</th>\n",
       "      <th>business_address</th>\n",
       "      <th>business_attributes</th>\n",
       "      <th>business_categories</th>\n",
       "      <th>business_city</th>\n",
       "      <th>business_hours</th>\n",
       "      <th>business_is_open</th>\n",
       "      <th>business_latitude</th>\n",
       "      <th>business_longitude</th>\n",
       "      <th>business_name</th>\n",
       "      <th>business_neighborhood</th>\n",
       "      <th>business_postal_code</th>\n",
       "      <th>business_review_count</th>\n",
       "      <th>business_stars</th>\n",
       "      <th>business_state</th>\n",
       "    </tr>\n",
       "  </thead>\n",
       "  <tbody>\n",
       "    <tr>\n",
       "      <th>0</th>\n",
       "      <td>8jpIK1WHmzzbXPaK51GenQ</td>\n",
       "      <td>1</td>\n",
       "      <td>2012-08-08</td>\n",
       "      <td>3</td>\n",
       "      <td>W7wcVRiw5T8TMrmGnxPsxQ</td>\n",
       "      <td>4</td>\n",
       "      <td>I've been here at least 10 times ... I like it ... but its not my favorite.  I always get the sp...</td>\n",
       "      <td>1</td>\n",
       "      <td>g6gTSnUKZIxLZPQVrFKscw</td>\n",
       "      <td>4.14</td>\n",
       "      <td>0</td>\n",
       "      <td>0</td>\n",
       "      <td>0</td>\n",
       "      <td>0</td>\n",
       "      <td>0</td>\n",
       "      <td>0</td>\n",
       "      <td>2</td>\n",
       "      <td>0</td>\n",
       "      <td>0</td>\n",
       "      <td>0</td>\n",
       "      <td>0</td>\n",
       "      <td>0</td>\n",
       "      <td>None</td>\n",
       "      <td>1</td>\n",
       "      <td>sJEgIk45pmVEJAHQMDKi4A, xduGhZ92kLqvTGZ2-zX0hg, UKPkJvtM5ceTng8fG4Wg8A, AIVgQY1-2O8gVFevmys3_Q</td>\n",
       "      <td>0</td>\n",
       "      <td>Debbie</td>\n",
       "      <td>26</td>\n",
       "      <td>1</td>\n",
       "      <td>2011-10-25</td>\n",
       "      <td>4050 W Ray Rd</td>\n",
       "      <td>{'Alcohol': 'none', 'Ambience': \"{'romantic': False, 'intimate': False, 'classy': False, 'hipste...</td>\n",
       "      <td>American (Traditional), Breakfast &amp; Brunch, Sandwiches, Restaurants</td>\n",
       "      <td>Chandler</td>\n",
       "      <td>{'Tuesday': '6:30-14:30', 'Wednesday': '6:30-14:30', 'Thursday': '6:30-14:30', 'Friday': '6:30-1...</td>\n",
       "      <td>0</td>\n",
       "      <td>33.320994</td>\n",
       "      <td>-111.912682</td>\n",
       "      <td>Dessie's Cafe</td>\n",
       "      <td>NaN</td>\n",
       "      <td>85226</td>\n",
       "      <td>67</td>\n",
       "      <td>3.5</td>\n",
       "      <td>AZ</td>\n",
       "    </tr>\n",
       "    <tr>\n",
       "      <th>1</th>\n",
       "      <td>wH4Q0y8C-lkq21yf4WWedw</td>\n",
       "      <td>0</td>\n",
       "      <td>2015-01-31</td>\n",
       "      <td>0</td>\n",
       "      <td>emypFL3PJjQBcllPZw_d5A</td>\n",
       "      <td>5</td>\n",
       "      <td>Although I had heard of Nekter, mainly from seeing it tagged in health conscious friends' IG pos...</td>\n",
       "      <td>2</td>\n",
       "      <td>LAEJWZSvzsfWJ686VOaQig</td>\n",
       "      <td>5.00</td>\n",
       "      <td>0</td>\n",
       "      <td>0</td>\n",
       "      <td>0</td>\n",
       "      <td>0</td>\n",
       "      <td>0</td>\n",
       "      <td>0</td>\n",
       "      <td>0</td>\n",
       "      <td>0</td>\n",
       "      <td>0</td>\n",
       "      <td>0</td>\n",
       "      <td>0</td>\n",
       "      <td>1</td>\n",
       "      <td>None</td>\n",
       "      <td>2</td>\n",
       "      <td>EFFWziYSge9vgL5QOuVodA, urMngjIG5D8Xde67j3AqSg, VLi09RsVRFlz7lizld85DQ, 59o2lrt5U1qxNys7eEsVcA, ...</td>\n",
       "      <td>1</td>\n",
       "      <td>Andrea</td>\n",
       "      <td>5</td>\n",
       "      <td>1</td>\n",
       "      <td>2013-12-24</td>\n",
       "      <td>9301 E Shea Blvd</td>\n",
       "      <td>{'Alcohol': 'none', 'Ambience': \"{'romantic': False, 'intimate': False, 'classy': False, 'hipste...</td>\n",
       "      <td>Juice Bars &amp; Smoothies, Gluten-Free, Food, Ice Cream &amp; Frozen Yogurt, Restaurants, Acai Bowls</td>\n",
       "      <td>Scottsdale</td>\n",
       "      <td>{'Monday': '6:30-20:0', 'Tuesday': '6:30-20:0', 'Wednesday': '6:30-20:0', 'Thursday': '6:30-20:0...</td>\n",
       "      <td>1</td>\n",
       "      <td>33.580474</td>\n",
       "      <td>-111.881062</td>\n",
       "      <td>Nekter Juice Bar</td>\n",
       "      <td>NaN</td>\n",
       "      <td>85260</td>\n",
       "      <td>59</td>\n",
       "      <td>4.0</td>\n",
       "      <td>AZ</td>\n",
       "    </tr>\n",
       "    <tr>\n",
       "      <th>2</th>\n",
       "      <td>cRMC2eQ9CP6ivhEY8EdaGg</td>\n",
       "      <td>1</td>\n",
       "      <td>2010-09-13</td>\n",
       "      <td>0</td>\n",
       "      <td>5X5ISEAp6HFTpMd_wlq_9w</td>\n",
       "      <td>3</td>\n",
       "      <td>Last week I met up with a highschool friend for the first time after highschool graduation for b...</td>\n",
       "      <td>1</td>\n",
       "      <td>TwilnpgwW43r9-O2AS4PDQ</td>\n",
       "      <td>3.14</td>\n",
       "      <td>14</td>\n",
       "      <td>0</td>\n",
       "      <td>14</td>\n",
       "      <td>6</td>\n",
       "      <td>1</td>\n",
       "      <td>4</td>\n",
       "      <td>22</td>\n",
       "      <td>3</td>\n",
       "      <td>64</td>\n",
       "      <td>1</td>\n",
       "      <td>9</td>\n",
       "      <td>2</td>\n",
       "      <td>2011, 2010, 2012</td>\n",
       "      <td>12</td>\n",
       "      <td>TkzLgJrW-OqwJ4Ws5oYBZg, CxDOIDnH8gp9KXzpBHJYXw, AVDCZrLcKlaNhpk_qWtC5g, nCqOSH2I6-k93B04FwouIA, ...</td>\n",
       "      <td>3</td>\n",
       "      <td>Marie</td>\n",
       "      <td>94</td>\n",
       "      <td>0</td>\n",
       "      <td>2010-01-25</td>\n",
       "      <td>459 Church Street, 2nd Floor</td>\n",
       "      <td>{'Alcohol': 'none', 'Ambience': \"{'romantic': False, 'intimate': False, 'classy': False, 'hipste...</td>\n",
       "      <td>Mexican, Restaurants, Asian Fusion</td>\n",
       "      <td>Toronto</td>\n",
       "      <td>{'Monday': '12:0-21:0', 'Tuesday': '12:0-21:0', 'Wednesday': '12:0-21:0', 'Thursday': '12:0-21:0...</td>\n",
       "      <td>0</td>\n",
       "      <td>43.664193</td>\n",
       "      <td>-79.380196</td>\n",
       "      <td>Chino Locos</td>\n",
       "      <td>Church-Wellesley Village</td>\n",
       "      <td>M4Y 2C5</td>\n",
       "      <td>34</td>\n",
       "      <td>3.5</td>\n",
       "      <td>ON</td>\n",
       "    </tr>\n",
       "    <tr>\n",
       "      <th>3</th>\n",
       "      <td>zunMkZ4U2eVojempQtLngg</td>\n",
       "      <td>1</td>\n",
       "      <td>2014-03-07</td>\n",
       "      <td>0</td>\n",
       "      <td>OGekU1U_wWgV--zL2gEgYw</td>\n",
       "      <td>4</td>\n",
       "      <td>A friend and I were driving by and decided to stop in and check out the place.  Glad we did.  We...</td>\n",
       "      <td>1</td>\n",
       "      <td>eITkQlKYsYqOBASP-QS0iQ</td>\n",
       "      <td>3.72</td>\n",
       "      <td>0</td>\n",
       "      <td>0</td>\n",
       "      <td>0</td>\n",
       "      <td>1</td>\n",
       "      <td>0</td>\n",
       "      <td>0</td>\n",
       "      <td>0</td>\n",
       "      <td>0</td>\n",
       "      <td>0</td>\n",
       "      <td>0</td>\n",
       "      <td>0</td>\n",
       "      <td>0</td>\n",
       "      <td>None</td>\n",
       "      <td>1</td>\n",
       "      <td>9RBRKzif1GD03M0bIX2hMQ, PHL0ESwylh6SKdmRsMXF0g, lP5UMXZGJrvWyTKiVC8Ytg, v914os7MSHH1rw378--r5A, ...</td>\n",
       "      <td>4</td>\n",
       "      <td>Sean</td>\n",
       "      <td>69</td>\n",
       "      <td>10</td>\n",
       "      <td>2007-12-03</td>\n",
       "      <td>5830 W Bell Rd</td>\n",
       "      <td>{'Alcohol': 'full_bar', 'Ambience': \"{'romantic': False, 'intimate': False, 'classy': False, 'hi...</td>\n",
       "      <td>Sports Bars, Burgers, Nightlife, Bars, Australian, Restaurants, Sandwiches</td>\n",
       "      <td>Glendale</td>\n",
       "      <td>{'Monday': '11:0-1:0', 'Tuesday': '11:0-1:0', 'Wednesday': '11:0-1:0', 'Thursday': '11:0-2:0', '...</td>\n",
       "      <td>0</td>\n",
       "      <td>33.639158</td>\n",
       "      <td>-112.185110</td>\n",
       "      <td>The Australian AZ</td>\n",
       "      <td>NaN</td>\n",
       "      <td>85308</td>\n",
       "      <td>26</td>\n",
       "      <td>2.5</td>\n",
       "      <td>AZ</td>\n",
       "    </tr>\n",
       "    <tr>\n",
       "      <th>4</th>\n",
       "      <td>1vLf-v7foAu3tJ7vAEoKdA</td>\n",
       "      <td>0</td>\n",
       "      <td>2014-11-26</td>\n",
       "      <td>1</td>\n",
       "      <td>tTe2cLFmpkLop3wKcT0Zgw</td>\n",
       "      <td>5</td>\n",
       "      <td>Our Bulldog LOVES this place and so do we! Wonderful husband and wife team that are true dog lov...</td>\n",
       "      <td>0</td>\n",
       "      <td>l3okl_UjyNdqRKAzYGdWaA</td>\n",
       "      <td>2.95</td>\n",
       "      <td>0</td>\n",
       "      <td>0</td>\n",
       "      <td>0</td>\n",
       "      <td>0</td>\n",
       "      <td>0</td>\n",
       "      <td>0</td>\n",
       "      <td>0</td>\n",
       "      <td>0</td>\n",
       "      <td>0</td>\n",
       "      <td>0</td>\n",
       "      <td>0</td>\n",
       "      <td>0</td>\n",
       "      <td>None</td>\n",
       "      <td>0</td>\n",
       "      <td>g0arZP7975-VYy6Vff0unQ</td>\n",
       "      <td>1</td>\n",
       "      <td>Jim</td>\n",
       "      <td>18</td>\n",
       "      <td>1</td>\n",
       "      <td>2014-04-27</td>\n",
       "      <td>7000 E Shea Blvd, Ste 1360</td>\n",
       "      <td>NaN</td>\n",
       "      <td>Pets, Pet Services, Pet Groomers, Pet Sitting</td>\n",
       "      <td>Scottsdale</td>\n",
       "      <td>{'Monday': '7:30-19:0', 'Tuesday': '7:30-19:0', 'Wednesday': '7:30-19:0', 'Thursday': '7:30-19:0...</td>\n",
       "      <td>1</td>\n",
       "      <td>33.582848</td>\n",
       "      <td>-111.929296</td>\n",
       "      <td>Lori's Grooming</td>\n",
       "      <td>NaN</td>\n",
       "      <td>85254</td>\n",
       "      <td>148</td>\n",
       "      <td>5.0</td>\n",
       "      <td>AZ</td>\n",
       "    </tr>\n",
       "  </tbody>\n",
       "</table>\n",
       "</div>"
      ],
      "text/plain": [
       "              business_id  cool        date  funny               review_id  stars                                                                                                 text  useful                 user_id  user_average_stars  user_compliment_cool  user_compliment_cute  user_compliment_funny  user_compliment_hot  user_compliment_list  user_compliment_more  user_compliment_note  user_compliment_photos  user_compliment_plain  user_compliment_profile  user_compliment_writer  user_cool        user_elite  user_fans                                                                                         user_friends  user_funny user_name  user_review_count  user_useful user_yelping_since              business_address                                                                                  business_attributes                                                                            business_categories business_city  \\\n",
       "0  8jpIK1WHmzzbXPaK51GenQ     1  2012-08-08      3  W7wcVRiw5T8TMrmGnxPsxQ      4  I've been here at least 10 times ... I like it ... but its not my favorite.  I always get the sp...       1  g6gTSnUKZIxLZPQVrFKscw                4.14                     0                     0                      0                    0                     0                     0                     2                       0                      0                        0                       0          0              None          1       sJEgIk45pmVEJAHQMDKi4A, xduGhZ92kLqvTGZ2-zX0hg, UKPkJvtM5ceTng8fG4Wg8A, AIVgQY1-2O8gVFevmys3_Q           0    Debbie                 26            1         2011-10-25                 4050 W Ray Rd  {'Alcohol': 'none', 'Ambience': \"{'romantic': False, 'intimate': False, 'classy': False, 'hipste...                            American (Traditional), Breakfast & Brunch, Sandwiches, Restaurants      Chandler   \n",
       "1  wH4Q0y8C-lkq21yf4WWedw     0  2015-01-31      0  emypFL3PJjQBcllPZw_d5A      5  Although I had heard of Nekter, mainly from seeing it tagged in health conscious friends' IG pos...       2  LAEJWZSvzsfWJ686VOaQig                5.00                     0                     0                      0                    0                     0                     0                     0                       0                      0                        0                       0          1              None          2  EFFWziYSge9vgL5QOuVodA, urMngjIG5D8Xde67j3AqSg, VLi09RsVRFlz7lizld85DQ, 59o2lrt5U1qxNys7eEsVcA, ...           1    Andrea                  5            1         2013-12-24              9301 E Shea Blvd  {'Alcohol': 'none', 'Ambience': \"{'romantic': False, 'intimate': False, 'classy': False, 'hipste...  Juice Bars & Smoothies, Gluten-Free, Food, Ice Cream & Frozen Yogurt, Restaurants, Acai Bowls    Scottsdale   \n",
       "2  cRMC2eQ9CP6ivhEY8EdaGg     1  2010-09-13      0  5X5ISEAp6HFTpMd_wlq_9w      3  Last week I met up with a highschool friend for the first time after highschool graduation for b...       1  TwilnpgwW43r9-O2AS4PDQ                3.14                    14                     0                     14                    6                     1                     4                    22                       3                     64                        1                       9          2  2011, 2010, 2012         12  TkzLgJrW-OqwJ4Ws5oYBZg, CxDOIDnH8gp9KXzpBHJYXw, AVDCZrLcKlaNhpk_qWtC5g, nCqOSH2I6-k93B04FwouIA, ...           3     Marie                 94            0         2010-01-25  459 Church Street, 2nd Floor  {'Alcohol': 'none', 'Ambience': \"{'romantic': False, 'intimate': False, 'classy': False, 'hipste...                                                             Mexican, Restaurants, Asian Fusion       Toronto   \n",
       "3  zunMkZ4U2eVojempQtLngg     1  2014-03-07      0  OGekU1U_wWgV--zL2gEgYw      4  A friend and I were driving by and decided to stop in and check out the place.  Glad we did.  We...       1  eITkQlKYsYqOBASP-QS0iQ                3.72                     0                     0                      0                    1                     0                     0                     0                       0                      0                        0                       0          0              None          1  9RBRKzif1GD03M0bIX2hMQ, PHL0ESwylh6SKdmRsMXF0g, lP5UMXZGJrvWyTKiVC8Ytg, v914os7MSHH1rw378--r5A, ...           4      Sean                 69           10         2007-12-03                5830 W Bell Rd  {'Alcohol': 'full_bar', 'Ambience': \"{'romantic': False, 'intimate': False, 'classy': False, 'hi...                     Sports Bars, Burgers, Nightlife, Bars, Australian, Restaurants, Sandwiches      Glendale   \n",
       "4  1vLf-v7foAu3tJ7vAEoKdA     0  2014-11-26      1  tTe2cLFmpkLop3wKcT0Zgw      5  Our Bulldog LOVES this place and so do we! Wonderful husband and wife team that are true dog lov...       0  l3okl_UjyNdqRKAzYGdWaA                2.95                     0                     0                      0                    0                     0                     0                     0                       0                      0                        0                       0          0              None          0                                                                               g0arZP7975-VYy6Vff0unQ           1       Jim                 18            1         2014-04-27    7000 E Shea Blvd, Ste 1360                                                                                                  NaN                                                  Pets, Pet Services, Pet Groomers, Pet Sitting    Scottsdale   \n",
       "\n",
       "                                                                                        business_hours  business_is_open  business_latitude  business_longitude      business_name     business_neighborhood business_postal_code  business_review_count  business_stars business_state  \n",
       "0  {'Tuesday': '6:30-14:30', 'Wednesday': '6:30-14:30', 'Thursday': '6:30-14:30', 'Friday': '6:30-1...                 0          33.320994         -111.912682      Dessie's Cafe                       NaN                85226                     67             3.5             AZ  \n",
       "1  {'Monday': '6:30-20:0', 'Tuesday': '6:30-20:0', 'Wednesday': '6:30-20:0', 'Thursday': '6:30-20:0...                 1          33.580474         -111.881062   Nekter Juice Bar                       NaN                85260                     59             4.0             AZ  \n",
       "2  {'Monday': '12:0-21:0', 'Tuesday': '12:0-21:0', 'Wednesday': '12:0-21:0', 'Thursday': '12:0-21:0...                 0          43.664193          -79.380196        Chino Locos  Church-Wellesley Village              M4Y 2C5                     34             3.5             ON  \n",
       "3  {'Monday': '11:0-1:0', 'Tuesday': '11:0-1:0', 'Wednesday': '11:0-1:0', 'Thursday': '11:0-2:0', '...                 0          33.639158         -112.185110  The Australian AZ                       NaN                85308                     26             2.5             AZ  \n",
       "4  {'Monday': '7:30-19:0', 'Tuesday': '7:30-19:0', 'Wednesday': '7:30-19:0', 'Thursday': '7:30-19:0...                 1          33.582848         -111.929296    Lori's Grooming                       NaN                85254                    148             5.0             AZ  "
      ]
     },
     "metadata": {},
     "output_type": "display_data"
    },
    {
     "data": {
      "text/html": [
       "<div>\n",
       "<style scoped>\n",
       "    .dataframe tbody tr th:only-of-type {\n",
       "        vertical-align: middle;\n",
       "    }\n",
       "\n",
       "    .dataframe tbody tr th {\n",
       "        vertical-align: top;\n",
       "    }\n",
       "\n",
       "    .dataframe thead th {\n",
       "        text-align: right;\n",
       "    }\n",
       "</style>\n",
       "<table border=\"1\" class=\"dataframe\">\n",
       "  <thead>\n",
       "    <tr style=\"text-align: right;\">\n",
       "      <th></th>\n",
       "      <th>count</th>\n",
       "      <th>mean</th>\n",
       "      <th>std</th>\n",
       "      <th>min</th>\n",
       "      <th>25%</th>\n",
       "      <th>50%</th>\n",
       "      <th>75%</th>\n",
       "      <th>max</th>\n",
       "    </tr>\n",
       "  </thead>\n",
       "  <tbody>\n",
       "    <tr>\n",
       "      <th>cool</th>\n",
       "      <td>10000.0</td>\n",
       "      <td>0.558300</td>\n",
       "      <td>1.975650</td>\n",
       "      <td>0.000000</td>\n",
       "      <td>0.000000</td>\n",
       "      <td>0.000000</td>\n",
       "      <td>0.000000</td>\n",
       "      <td>70.000000</td>\n",
       "    </tr>\n",
       "    <tr>\n",
       "      <th>funny</th>\n",
       "      <td>10000.0</td>\n",
       "      <td>0.534500</td>\n",
       "      <td>4.304098</td>\n",
       "      <td>0.000000</td>\n",
       "      <td>0.000000</td>\n",
       "      <td>0.000000</td>\n",
       "      <td>0.000000</td>\n",
       "      <td>388.000000</td>\n",
       "    </tr>\n",
       "    <tr>\n",
       "      <th>stars</th>\n",
       "      <td>10000.0</td>\n",
       "      <td>3.721300</td>\n",
       "      <td>1.455211</td>\n",
       "      <td>1.000000</td>\n",
       "      <td>3.000000</td>\n",
       "      <td>4.000000</td>\n",
       "      <td>5.000000</td>\n",
       "      <td>5.000000</td>\n",
       "    </tr>\n",
       "    <tr>\n",
       "      <th>useful</th>\n",
       "      <td>10000.0</td>\n",
       "      <td>1.368800</td>\n",
       "      <td>3.678959</td>\n",
       "      <td>0.000000</td>\n",
       "      <td>0.000000</td>\n",
       "      <td>0.000000</td>\n",
       "      <td>2.000000</td>\n",
       "      <td>212.000000</td>\n",
       "    </tr>\n",
       "    <tr>\n",
       "      <th>user_average_stars</th>\n",
       "      <td>10000.0</td>\n",
       "      <td>3.739603</td>\n",
       "      <td>0.802876</td>\n",
       "      <td>1.000000</td>\n",
       "      <td>3.400000</td>\n",
       "      <td>3.810000</td>\n",
       "      <td>4.200000</td>\n",
       "      <td>5.000000</td>\n",
       "    </tr>\n",
       "    <tr>\n",
       "      <th>user_compliment_cool</th>\n",
       "      <td>10000.0</td>\n",
       "      <td>37.518800</td>\n",
       "      <td>308.275809</td>\n",
       "      <td>0.000000</td>\n",
       "      <td>0.000000</td>\n",
       "      <td>0.000000</td>\n",
       "      <td>2.000000</td>\n",
       "      <td>13014.000000</td>\n",
       "    </tr>\n",
       "    <tr>\n",
       "      <th>user_compliment_cute</th>\n",
       "      <td>10000.0</td>\n",
       "      <td>1.695100</td>\n",
       "      <td>31.125260</td>\n",
       "      <td>0.000000</td>\n",
       "      <td>0.000000</td>\n",
       "      <td>0.000000</td>\n",
       "      <td>0.000000</td>\n",
       "      <td>2250.000000</td>\n",
       "    </tr>\n",
       "    <tr>\n",
       "      <th>user_compliment_funny</th>\n",
       "      <td>10000.0</td>\n",
       "      <td>37.518800</td>\n",
       "      <td>308.275809</td>\n",
       "      <td>0.000000</td>\n",
       "      <td>0.000000</td>\n",
       "      <td>0.000000</td>\n",
       "      <td>2.000000</td>\n",
       "      <td>13014.000000</td>\n",
       "    </tr>\n",
       "    <tr>\n",
       "      <th>user_compliment_hot</th>\n",
       "      <td>10000.0</td>\n",
       "      <td>25.273900</td>\n",
       "      <td>240.013823</td>\n",
       "      <td>0.000000</td>\n",
       "      <td>0.000000</td>\n",
       "      <td>0.000000</td>\n",
       "      <td>1.000000</td>\n",
       "      <td>9259.000000</td>\n",
       "    </tr>\n",
       "    <tr>\n",
       "      <th>user_compliment_list</th>\n",
       "      <td>10000.0</td>\n",
       "      <td>1.222300</td>\n",
       "      <td>27.808089</td>\n",
       "      <td>0.000000</td>\n",
       "      <td>0.000000</td>\n",
       "      <td>0.000000</td>\n",
       "      <td>0.000000</td>\n",
       "      <td>2259.000000</td>\n",
       "    </tr>\n",
       "    <tr>\n",
       "      <th>user_compliment_more</th>\n",
       "      <td>10000.0</td>\n",
       "      <td>3.228200</td>\n",
       "      <td>42.844896</td>\n",
       "      <td>0.000000</td>\n",
       "      <td>0.000000</td>\n",
       "      <td>0.000000</td>\n",
       "      <td>1.000000</td>\n",
       "      <td>3574.000000</td>\n",
       "    </tr>\n",
       "    <tr>\n",
       "      <th>user_compliment_note</th>\n",
       "      <td>10000.0</td>\n",
       "      <td>17.064600</td>\n",
       "      <td>121.196187</td>\n",
       "      <td>0.000000</td>\n",
       "      <td>0.000000</td>\n",
       "      <td>0.000000</td>\n",
       "      <td>2.000000</td>\n",
       "      <td>4899.000000</td>\n",
       "    </tr>\n",
       "    <tr>\n",
       "      <th>user_compliment_photos</th>\n",
       "      <td>10000.0</td>\n",
       "      <td>14.587600</td>\n",
       "      <td>189.604656</td>\n",
       "      <td>0.000000</td>\n",
       "      <td>0.000000</td>\n",
       "      <td>0.000000</td>\n",
       "      <td>0.000000</td>\n",
       "      <td>10820.000000</td>\n",
       "    </tr>\n",
       "    <tr>\n",
       "      <th>user_compliment_plain</th>\n",
       "      <td>10000.0</td>\n",
       "      <td>42.968400</td>\n",
       "      <td>351.849322</td>\n",
       "      <td>0.000000</td>\n",
       "      <td>0.000000</td>\n",
       "      <td>0.000000</td>\n",
       "      <td>3.000000</td>\n",
       "      <td>11741.000000</td>\n",
       "    </tr>\n",
       "    <tr>\n",
       "      <th>user_compliment_profile</th>\n",
       "      <td>10000.0</td>\n",
       "      <td>2.686700</td>\n",
       "      <td>65.375613</td>\n",
       "      <td>0.000000</td>\n",
       "      <td>0.000000</td>\n",
       "      <td>0.000000</td>\n",
       "      <td>0.000000</td>\n",
       "      <td>5659.000000</td>\n",
       "    </tr>\n",
       "    <tr>\n",
       "      <th>user_compliment_writer</th>\n",
       "      <td>10000.0</td>\n",
       "      <td>14.075400</td>\n",
       "      <td>117.437035</td>\n",
       "      <td>0.000000</td>\n",
       "      <td>0.000000</td>\n",
       "      <td>0.000000</td>\n",
       "      <td>2.000000</td>\n",
       "      <td>5668.000000</td>\n",
       "    </tr>\n",
       "    <tr>\n",
       "      <th>user_cool</th>\n",
       "      <td>10000.0</td>\n",
       "      <td>228.383500</td>\n",
       "      <td>2234.239711</td>\n",
       "      <td>0.000000</td>\n",
       "      <td>0.000000</td>\n",
       "      <td>0.000000</td>\n",
       "      <td>5.000000</td>\n",
       "      <td>86136.000000</td>\n",
       "    </tr>\n",
       "    <tr>\n",
       "      <th>user_fans</th>\n",
       "      <td>10000.0</td>\n",
       "      <td>11.817500</td>\n",
       "      <td>53.572480</td>\n",
       "      <td>0.000000</td>\n",
       "      <td>0.000000</td>\n",
       "      <td>0.000000</td>\n",
       "      <td>4.000000</td>\n",
       "      <td>1394.000000</td>\n",
       "    </tr>\n",
       "    <tr>\n",
       "      <th>user_funny</th>\n",
       "      <td>10000.0</td>\n",
       "      <td>153.556100</td>\n",
       "      <td>1732.724499</td>\n",
       "      <td>0.000000</td>\n",
       "      <td>0.000000</td>\n",
       "      <td>0.000000</td>\n",
       "      <td>6.000000</td>\n",
       "      <td>83218.000000</td>\n",
       "    </tr>\n",
       "    <tr>\n",
       "      <th>user_review_count</th>\n",
       "      <td>10000.0</td>\n",
       "      <td>121.117200</td>\n",
       "      <td>348.622585</td>\n",
       "      <td>0.000000</td>\n",
       "      <td>7.000000</td>\n",
       "      <td>23.000000</td>\n",
       "      <td>93.250000</td>\n",
       "      <td>9278.000000</td>\n",
       "    </tr>\n",
       "    <tr>\n",
       "      <th>user_useful</th>\n",
       "      <td>10000.0</td>\n",
       "      <td>295.013100</td>\n",
       "      <td>2471.007897</td>\n",
       "      <td>0.000000</td>\n",
       "      <td>0.000000</td>\n",
       "      <td>3.000000</td>\n",
       "      <td>26.000000</td>\n",
       "      <td>91508.000000</td>\n",
       "    </tr>\n",
       "    <tr>\n",
       "      <th>business_is_open</th>\n",
       "      <td>10000.0</td>\n",
       "      <td>0.870600</td>\n",
       "      <td>0.335659</td>\n",
       "      <td>0.000000</td>\n",
       "      <td>1.000000</td>\n",
       "      <td>1.000000</td>\n",
       "      <td>1.000000</td>\n",
       "      <td>1.000000</td>\n",
       "    </tr>\n",
       "    <tr>\n",
       "      <th>business_latitude</th>\n",
       "      <td>10000.0</td>\n",
       "      <td>37.255640</td>\n",
       "      <td>4.180602</td>\n",
       "      <td>-34.513715</td>\n",
       "      <td>33.611538</td>\n",
       "      <td>36.106370</td>\n",
       "      <td>40.448994</td>\n",
       "      <td>54.486937</td>\n",
       "    </tr>\n",
       "    <tr>\n",
       "      <th>business_longitude</th>\n",
       "      <td>10000.0</td>\n",
       "      <td>-102.726057</td>\n",
       "      <td>16.112593</td>\n",
       "      <td>-122.822578</td>\n",
       "      <td>-115.154014</td>\n",
       "      <td>-111.978453</td>\n",
       "      <td>-80.993009</td>\n",
       "      <td>112.092039</td>\n",
       "    </tr>\n",
       "    <tr>\n",
       "      <th>business_review_count</th>\n",
       "      <td>10000.0</td>\n",
       "      <td>368.128600</td>\n",
       "      <td>785.565596</td>\n",
       "      <td>3.000000</td>\n",
       "      <td>35.000000</td>\n",
       "      <td>111.000000</td>\n",
       "      <td>339.000000</td>\n",
       "      <td>7968.000000</td>\n",
       "    </tr>\n",
       "    <tr>\n",
       "      <th>business_stars</th>\n",
       "      <td>10000.0</td>\n",
       "      <td>3.736500</td>\n",
       "      <td>0.752479</td>\n",
       "      <td>1.000000</td>\n",
       "      <td>3.500000</td>\n",
       "      <td>4.000000</td>\n",
       "      <td>4.000000</td>\n",
       "      <td>5.000000</td>\n",
       "    </tr>\n",
       "  </tbody>\n",
       "</table>\n",
       "</div>"
      ],
      "text/plain": [
       "                           count        mean          std         min         25%         50%         75%           max\n",
       "cool                     10000.0    0.558300     1.975650    0.000000    0.000000    0.000000    0.000000     70.000000\n",
       "funny                    10000.0    0.534500     4.304098    0.000000    0.000000    0.000000    0.000000    388.000000\n",
       "stars                    10000.0    3.721300     1.455211    1.000000    3.000000    4.000000    5.000000      5.000000\n",
       "useful                   10000.0    1.368800     3.678959    0.000000    0.000000    0.000000    2.000000    212.000000\n",
       "user_average_stars       10000.0    3.739603     0.802876    1.000000    3.400000    3.810000    4.200000      5.000000\n",
       "user_compliment_cool     10000.0   37.518800   308.275809    0.000000    0.000000    0.000000    2.000000  13014.000000\n",
       "user_compliment_cute     10000.0    1.695100    31.125260    0.000000    0.000000    0.000000    0.000000   2250.000000\n",
       "user_compliment_funny    10000.0   37.518800   308.275809    0.000000    0.000000    0.000000    2.000000  13014.000000\n",
       "user_compliment_hot      10000.0   25.273900   240.013823    0.000000    0.000000    0.000000    1.000000   9259.000000\n",
       "user_compliment_list     10000.0    1.222300    27.808089    0.000000    0.000000    0.000000    0.000000   2259.000000\n",
       "user_compliment_more     10000.0    3.228200    42.844896    0.000000    0.000000    0.000000    1.000000   3574.000000\n",
       "user_compliment_note     10000.0   17.064600   121.196187    0.000000    0.000000    0.000000    2.000000   4899.000000\n",
       "user_compliment_photos   10000.0   14.587600   189.604656    0.000000    0.000000    0.000000    0.000000  10820.000000\n",
       "user_compliment_plain    10000.0   42.968400   351.849322    0.000000    0.000000    0.000000    3.000000  11741.000000\n",
       "user_compliment_profile  10000.0    2.686700    65.375613    0.000000    0.000000    0.000000    0.000000   5659.000000\n",
       "user_compliment_writer   10000.0   14.075400   117.437035    0.000000    0.000000    0.000000    2.000000   5668.000000\n",
       "user_cool                10000.0  228.383500  2234.239711    0.000000    0.000000    0.000000    5.000000  86136.000000\n",
       "user_fans                10000.0   11.817500    53.572480    0.000000    0.000000    0.000000    4.000000   1394.000000\n",
       "user_funny               10000.0  153.556100  1732.724499    0.000000    0.000000    0.000000    6.000000  83218.000000\n",
       "user_review_count        10000.0  121.117200   348.622585    0.000000    7.000000   23.000000   93.250000   9278.000000\n",
       "user_useful              10000.0  295.013100  2471.007897    0.000000    0.000000    3.000000   26.000000  91508.000000\n",
       "business_is_open         10000.0    0.870600     0.335659    0.000000    1.000000    1.000000    1.000000      1.000000\n",
       "business_latitude        10000.0   37.255640     4.180602  -34.513715   33.611538   36.106370   40.448994     54.486937\n",
       "business_longitude       10000.0 -102.726057    16.112593 -122.822578 -115.154014 -111.978453  -80.993009    112.092039\n",
       "business_review_count    10000.0  368.128600   785.565596    3.000000   35.000000  111.000000  339.000000   7968.000000\n",
       "business_stars           10000.0    3.736500     0.752479    1.000000    3.500000    4.000000    4.000000      5.000000"
      ]
     },
     "metadata": {},
     "output_type": "display_data"
    }
   ],
   "source": [
    "train_df = pd.read_csv(PATH/'joined_sample.csv', index_col=None)\n",
    "\n",
    "display(len(train_df))\n",
    "display(train_df.head())\n",
    "display(train_df.describe().T)"
   ]
  },
  {
   "cell_type": "code",
   "execution_count": 9,
   "metadata": {},
   "outputs": [],
   "source": [
    "cat_cols = ['business_id', 'user_id', 'business_stars', 'business_postal_code', 'business_state']\n",
    "cont_cols = ['useful', 'user_average_stars', 'user_review_count', 'business_review_count']\n",
    "txt_cols = ['text']\n",
    "\n",
    "dep_var = ['stars']\n",
    "\n",
    "procs = [FillMissing, Categorify, Normalize]"
   ]
  },
  {
   "cell_type": "code",
   "execution_count": 10,
   "metadata": {},
   "outputs": [
    {
     "data": {
      "text/plain": [
       "5    4368\n",
       "4    2234\n",
       "1    1457\n",
       "3    1098\n",
       "2     843\n",
       "Name: stars, dtype: int64"
      ]
     },
     "execution_count": 10,
     "metadata": {},
     "output_type": "execute_result"
    }
   ],
   "source": [
    "train_df.stars.value_counts()"
   ]
  },
  {
   "cell_type": "markdown",
   "metadata": {},
   "source": [
    "## LM Fine-tuning"
   ]
  },
  {
   "cell_type": "code",
   "execution_count": 11,
   "metadata": {},
   "outputs": [],
   "source": [
    "lm_df = pd.DataFrame(pd.concat([train_df[txt_cols]], axis=0))\n",
    "lm_df[txt_cols].fillna('None', inplace=True)\n",
    "\n",
    "data_lm = (TextList.from_df(lm_df, PATH, cols=txt_cols)\n",
    "            .split_by_rand_pct()\n",
    "            .label_for_lm()\n",
    "            .databunch())\n",
    "\n",
    "data_lm.save('data_lm_export.pkl')\n",
    "data_lm = load_data(PATH, file='data_lm_export.pkl')"
   ]
  },
  {
   "cell_type": "code",
   "execution_count": 12,
   "metadata": {},
   "outputs": [],
   "source": [
    "learn = language_model_learner(data_lm, AWD_LSTM, drop_mult=0.5)"
   ]
  },
  {
   "cell_type": "code",
   "execution_count": 13,
   "metadata": {},
   "outputs": [
    {
     "data": {
      "text/html": [
       "<table border=\"1\" class=\"dataframe\">\n",
       "  <thead>\n",
       "    <tr style=\"text-align: left;\">\n",
       "      <th>epoch</th>\n",
       "      <th>train_loss</th>\n",
       "      <th>valid_loss</th>\n",
       "      <th>accuracy</th>\n",
       "      <th>time</th>\n",
       "    </tr>\n",
       "  </thead>\n",
       "  <tbody>\n",
       "    <tr>\n",
       "      <td>0</td>\n",
       "      <td>4.138680</td>\n",
       "      <td>3.911838</td>\n",
       "      <td>0.273308</td>\n",
       "      <td>00:23</td>\n",
       "    </tr>\n",
       "  </tbody>\n",
       "</table>"
      ],
      "text/plain": [
       "<IPython.core.display.HTML object>"
      ]
     },
     "metadata": {},
     "output_type": "display_data"
    }
   ],
   "source": [
    "learn.fit_one_cycle(1, 1e-2)"
   ]
  },
  {
   "cell_type": "code",
   "execution_count": 14,
   "metadata": {},
   "outputs": [
    {
     "data": {
      "text/html": [
       "<table border=\"1\" class=\"dataframe\">\n",
       "  <thead>\n",
       "    <tr style=\"text-align: left;\">\n",
       "      <th>epoch</th>\n",
       "      <th>train_loss</th>\n",
       "      <th>valid_loss</th>\n",
       "      <th>accuracy</th>\n",
       "      <th>time</th>\n",
       "    </tr>\n",
       "  </thead>\n",
       "  <tbody>\n",
       "    <tr>\n",
       "      <td>0</td>\n",
       "      <td>3.800237</td>\n",
       "      <td>3.751961</td>\n",
       "      <td>0.292724</td>\n",
       "      <td>00:29</td>\n",
       "    </tr>\n",
       "  </tbody>\n",
       "</table>"
      ],
      "text/plain": [
       "<IPython.core.display.HTML object>"
      ]
     },
     "metadata": {},
     "output_type": "display_data"
    }
   ],
   "source": [
    "learn.unfreeze()\n",
    "learn.fit_one_cycle(1, 1e-3)"
   ]
  },
  {
   "cell_type": "code",
   "execution_count": 15,
   "metadata": {},
   "outputs": [
    {
     "data": {
      "text/plain": [
       "'Our cats love this funny soup here , but we actually did not want a'"
      ]
     },
     "execution_count": 15,
     "metadata": {},
     "output_type": "execute_result"
    }
   ],
   "source": [
    "learn.predict(\"Our cats love this funny\", n_words=10)"
   ]
  },
  {
   "cell_type": "code",
   "execution_count": 16,
   "metadata": {},
   "outputs": [],
   "source": [
    "learn.save_encoder('lm_ft_enc')"
   ]
  },
  {
   "cell_type": "markdown",
   "metadata": {},
   "source": [
    "## Build the MixedTabular Databunch"
   ]
  },
  {
   "cell_type": "code",
   "execution_count": 17,
   "metadata": {},
   "outputs": [],
   "source": [
    "procs = [FillMissing, Categorify, Normalize]"
   ]
  },
  {
   "cell_type": "code",
   "execution_count": 18,
   "metadata": {},
   "outputs": [],
   "source": [
    "data_cls = (MixedTabularList.from_df(train_df, cat_cols, cont_cols, txt_cols,\n",
    "                               vocab=data_lm.train_ds.vocab, procs=procs, path=PATH)\n",
    "          .split_by_rand_pct(valid_pct=0.3, seed=42)\n",
    "          .label_from_df(dep_var)\n",
    "          .databunch())"
   ]
  },
  {
   "cell_type": "code",
   "execution_count": 19,
   "metadata": {},
   "outputs": [
    {
     "name": "stdout",
     "output_type": "stream",
     "text": [
      "CATS:\n",
      "['business_id', 'user_id', 'business_stars', 'business_postal_code', 'business_state']\n",
      "CONTS:\n",
      "['useful', 'user_average_stars', 'user_review_count', 'business_review_count']\n",
      "TEXT COLS:\n",
      "['text']\n",
      "PROCS:\n",
      "[<class 'fastai.tabular.transform.FillMissing'>, <class 'fastai.tabular.transform.Categorify'>, <class 'fastai.tabular.transform.Normalize'>]\n"
     ]
    }
   ],
   "source": [
    "print(f'CATS:\\n{data_cls.train_ds.cat_names}')\n",
    "print(f'CONTS:\\n{data_cls.train_ds.cont_names}')\n",
    "print(f'TEXT COLS:\\n{data_cls.train_ds.text_cols}')\n",
    "print(f'PROCS:\\n{data_cls.train_ds.procs}')"
   ]
  },
  {
   "cell_type": "code",
   "execution_count": 20,
   "metadata": {},
   "outputs": [
    {
     "data": {
      "text/plain": [
       "(10768, 10768)"
      ]
     },
     "execution_count": 20,
     "metadata": {},
     "output_type": "execute_result"
    }
   ],
   "source": [
    "len(data_cls.train_ds.x.vocab.itos), len(data_cls.valid_ds.x.vocab.itos)"
   ]
  },
  {
   "cell_type": "code",
   "execution_count": 21,
   "metadata": {},
   "outputs": [
    {
     "data": {
      "text/html": [
       "TABULAR:<br>"
      ],
      "text/plain": [
       "<IPython.core.display.HTML object>"
      ]
     },
     "metadata": {},
     "output_type": "display_data"
    },
    {
     "data": {
      "text/html": [
       "<table border=\"1\" class=\"dataframe\">\n",
       "  <thead>\n",
       "    <tr style=\"text-align: right;\">\n",
       "      <th>business_id</th>\n",
       "      <th>user_id</th>\n",
       "      <th>business_stars</th>\n",
       "      <th>business_postal_code</th>\n",
       "      <th>business_state</th>\n",
       "      <th>useful</th>\n",
       "      <th>user_average_stars</th>\n",
       "      <th>user_review_count</th>\n",
       "      <th>business_review_count</th>\n",
       "      <th>target</th>\n",
       "    </tr>\n",
       "  </thead>\n",
       "  <tbody>\n",
       "    <tr>\n",
       "      <td>QaeDEK3VA8Jr2WbvtcpEnA</td>\n",
       "      <td>uWGFAcVnwtvCkgLKyCaq-w</td>\n",
       "      <td>2.5</td>\n",
       "      <td>89106</td>\n",
       "      <td>NV</td>\n",
       "      <td>2.3316</td>\n",
       "      <td>-1.4799</td>\n",
       "      <td>-0.2990</td>\n",
       "      <td>-0.4273</td>\n",
       "      <td>1</td>\n",
       "    </tr>\n",
       "    <tr>\n",
       "      <td>8k6pMmiGxtTctNC3rKwWlA</td>\n",
       "      <td>AmpPfqyUxs3-fMv9tdwr8Q</td>\n",
       "      <td>5.0</td>\n",
       "      <td>85258</td>\n",
       "      <td>AZ</td>\n",
       "      <td>-0.3484</td>\n",
       "      <td>0.8262</td>\n",
       "      <td>-0.2369</td>\n",
       "      <td>-0.4452</td>\n",
       "      <td>5</td>\n",
       "    </tr>\n",
       "    <tr>\n",
       "      <td>QalBgQ2z_Fc83xFGG6CgLg</td>\n",
       "      <td>sdLns7062kz3Ur_b8wgeYw</td>\n",
       "      <td>4.5</td>\n",
       "      <td>28202</td>\n",
       "      <td>NC</td>\n",
       "      <td>1.1134</td>\n",
       "      <td>-0.0045</td>\n",
       "      <td>0.8264</td>\n",
       "      <td>-0.3080</td>\n",
       "      <td>5</td>\n",
       "    </tr>\n",
       "    <tr>\n",
       "      <td>N5B7OBTyNGgwU_Y2fwNcyw</td>\n",
       "      <td>zDJBkm_68Jlc-_Fw9QUerg</td>\n",
       "      <td>4.0</td>\n",
       "      <td>85004</td>\n",
       "      <td>AZ</td>\n",
       "      <td>-0.1047</td>\n",
       "      <td>0.9130</td>\n",
       "      <td>-0.2905</td>\n",
       "      <td>0.7524</td>\n",
       "      <td>3</td>\n",
       "    </tr>\n",
       "    <tr>\n",
       "      <td>pGHyYl4GrwSg-BAu3laYsw</td>\n",
       "      <td>0Q-F7_msOEOwnNlE8WsQuQ</td>\n",
       "      <td>4.0</td>\n",
       "      <td>89102</td>\n",
       "      <td>NV</td>\n",
       "      <td>-0.3484</td>\n",
       "      <td>0.2559</td>\n",
       "      <td>0.3498</td>\n",
       "      <td>-0.2811</td>\n",
       "      <td>5</td>\n",
       "    </tr>\n",
       "  </tbody>\n",
       "</table>"
      ],
      "text/plain": [
       "<IPython.core.display.HTML object>"
      ]
     },
     "metadata": {},
     "output_type": "display_data"
    },
    {
     "data": {
      "text/html": [
       "TEXT:<br>"
      ],
      "text/plain": [
       "<IPython.core.display.HTML object>"
      ]
     },
     "metadata": {},
     "output_type": "display_data"
    },
    {
     "data": {
      "text/html": [
       "<table border=\"1\" class=\"dataframe\">  <thead>\n",
       "    <tr style=\"text-align: right;\">\n",
       "      <th>text_data</th>      <th>target</th>    </tr>\n",
       "  </thead>\n",
       "  <tbody>  <tbody>    <tr>      <td>xxbos(2) xxmaj(5) no(86) one(67) likes(1878) having(355) to(15) come(124) down(182) to(15) the(10) police(4313) station(1105) ,(12) but(31) sometimes(804) there(51) 's(37) no(86) way(160) around(169) it(17) !(20) i(13) came(119) in(22) and(11) was(16) rudely(3086) \"(57) greeted(850) \"(57) by(98) the(10) xxunk(0) xxmaj(5) asian(827) receptionist(2844) .(9) xxmaj(5) she(81) 's(37) extremely(411) rude(508) and(11) even(102) threatened(6952) me(48) .(9) xxmaj(5) it(17) would(66) be(46) ironic(7837) to(15) file(2901) a(14) police(4313) report(2260) on(32) her(127) at(40) her(127) own(449) place(43) of(18) work(197) ?(99) i(13) double(1196) checked(785) to(15) be(46) sure(176) about(79) what(82) to(15) fill(1378) out(55) on(32) my(23) document(6242) as(47) if(56) there(51) is(19) as(47) much(131) as(47) a(14) \"(57) period(2528) \"(57) on(32) the(10) document(6242) it(17) has(111) to(15) be(46) xxunk(0) .(9) xxmaj(5) well(106) this(28) xxunk(0) xxunk(0) human(3265) tells(1996) me(48) to(15) \"(57) wipe(2810) the(10) look(293) off(145) of(18) my(23) face(1191) \"(57) .(9) xxmaj(5) she(81) needs(662) to(15) wipe(2810) the(10) xxunk(0) intake(4552) off(145) of(18) her(127) body(1513) .(9) xxmaj(5) xxunk(0) .(9) xxmaj(5) people(133) that(24) work(197) here(59) are(41) right(157) up(73) there(51) with(29) the(10) people(133) that(24) work(197) at(40) the(10) xxup(6) xxunk(0) .(9) xxmaj(5) paid(540) to(15) make(143) your(85) life(666) absolutely(412) miserable(4387) .(9)</td>      <td>1</td>    </tr>    <tr>      <td>xxbos(2) xxmaj(5) dr.(632) xxmaj(5) xxunk(0) is(19) amazing(137) !(20) xxmaj(5) his(167) ocean(4782) /(112) beach(2593) inspired(3451) office(579) is(19) instantly(3790) calming(6580) and(11) welcoming(1126) .(9) xxmaj(5) it(17) always(114) smells(3563) lovely(959) !(20) xxmaj(5) it(17) 's(37) nice(105) to(15) see(174) a(14) doctor(969) that(24) 's(37) grounded(7850) and(11) is(19) truly(703) passionate(3269) about(79) medical(2210) care(369) and(11) services(887) .(9) xxmaj(5) source(4086) of(18) xxmaj(5) health(1510) provides(2400) so(38) many(224) services(887) ;(341) pain(1098) management(859) xxunk(0) ,(12) xxunk(0) skin(1351) treatments(3164) ,(12) top(308) notch(1384) vitamin(9185) and(11) allergy(5734) formula(8804) 's(37) ((53) xxmaj(5) aller(6980) x(2822) keeps(2386) me(48) alive(7028) )(52) and(11) in(22) -(44) house(328) non(796) -(44) xxunk(0) services(887) ((53) xxunk(0) is(19) the(10) best(107) )(52) to(15) cover(1437) all(54) aspects(6204) of(18) health(1510) and(11) wellness(6550) .(9) i(13) 'm(116) convinced(3905) xxmaj(5) dr.(632) xxmaj(5) xxunk(0) really(80) does(241) stay(435) up(73) at(40) night(178) dreaming(8401) up(73) ways(2357) to(15) elevate(7335) his(167) practice(2186) and(11) medical(2210) knowledge(1985) in(22) order(118) to(15) provide(1176) the(10) best(107) xxunk(0) care(369) in(22) xxmaj(5) scottsdale(974) .(9) xxmaj(5) he(78) thoroughly(2008) explains(6172) everything(173) that(24) he(78) 's(37) doing(493) and(11) why(285) he(78) recommends(5189) the(10) treatments(3164) .(9) xxmaj(5) his(167) yoga(2711) teacher(4430) knowledge(1985) comes(438) in(22) handy(6102) and(11) he(78) really(80) does(241) observe(6179) and(11) comment(1706) on(32) your(85) health(1510) changes(1778) with(29) every(180) visit(257) .(9) xxmaj(5) he(78) also(92) xxunk(0) the(10) community(1721) ,(12) shares(5629) his(167) knowledge(1985) with(29) content(5187) packed(700) informational(9979) sessions(4566) and(11) seminars(9980) ,(12) and(11) truly(703) gives(1270) a(14) darn(2632) about(79) the(10) human(3265) factor(3069) .(9) i(13) am(166) so(38) glad(644) that(24) i(13) found(263) him(259) through(321) xxmaj(5) groupon(1147) -(44) time(64) and(11) money(368) well(106) spent(815) on(32) health(1510) !(20) xxmaj(5) would(66) recommend(162) in(22) a(14) heartbeat(6036) !(20)</td>      <td>5</td>    </tr>    <tr>      <td>xxbos(2) xxmaj(5) it(17) 's(37) the(10) little(132) things(295) that(24) matter(1221) the(10) most(199) .(9) i(13) 've(101) never(126) reviewed(2956) the(10) xxmaj(5) ritz(8348) ,(12) as(47) i(13) 'm(116) usually(394) here(59) for(21) jazz(6965) on(32) xxmaj(5) fridays(4177) or(75) stealing(8524) away(281) a(14) moment(1406) at(40) the(10) bar(186) at(40) some(91) random(2023) time(64) .(9) xxmaj(5) never(126) had(36) much(131) to(15) say(183) .(9) xxmaj(5) that(24) was(16) until(404) my(23) last(218) visit(257) when(71) i(13) went(123) out(55) for(21) a(14) girl(707) 's(37) night(178) .(9) xxmaj(5) while(170) we(27) were(39) there(51) ,(12) it(17) had(36) started(436) raining(6614) ,(12) which(87) we(27) were(39) not(34) prepared(808) for(21) .(9) xxmaj(5) the(10) valet(1900) somehow(2364) saw(547) us(93) standing(1436) in(22) the(10) revolving(8112) door(452) on(32) the(10) xxmaj(5) bar(186) xxmaj(5) cocoa(5591) side(225) and(11) came(119) around(169) the(10) building(1051) ,(12) told(198) us(93) to(15) wait(159) while(170) he(78) got(94) an(76) umbrella(10458) and(11) came(119) back(74) xxunk(0) split(1102) with(29) a(14) really(80) nice(105) and(11) large(324) umbrella(10458) .(9) xxmaj(5) told(198) us(93) not(34) to(15) worry(2344) about(79) bringing(1742) it(17) back(74) -(44) courtesy(5117) of(18) xxmaj(5) the(10) xxmaj(5) ritz(8348) xxmaj(5) carton(8836) .(9) xxmaj(5) now(177) i(13) know(146) why(285) the(10) glasses(1257) of(18) wine(443) sent(946) my(23) way(160) were(39) $(90) 15(430) +(853) .(9) xxmaj(5) that(24) markup(10211) is(19) going(150) to(15) a(14) good(45) cause(1199) ,(12) excellent(237) customer(214) service(60) .(9) xxmaj(5) you(26) get(68) what(82) you(26) pay(364) for(21) and(11) i(13) never(126) mind(586) opening(1370) my(23) wallet(3103) at(40) xxmaj(5) the(10) xxmaj(5) ritz(8348) .(9) xxmaj(5) and(11) if(56) you(26) have(35) n't(33) been(88) ,(12) the(10) jazz(6965) here(59) on(32) xxmaj(5) friday(742) is(19) amazing(137) .(9) xxmaj(5) come(124) let(327) your(85) hair(423) down(182) ,(12) have(35) a(14) drink(251) ,(12) dance(1243) a(14) little(132) ,(12) and(11) socialize(5411) when(71) you(26) have(35) a(14) free(267) xxmaj(5) friday(742) night(178) .(9)</td>      <td>5</td>    </tr>    <tr>      <td>xxbos(2) i(13) like(61) the(10) vibe(874) .(9) it(17) has(111) that(24) market(729) feel(242) .(9) i(13) had(36) a(14) green(585) chili(1198) burger(261) and(11) it(17) was(16) worth(232) the(10) 12(872) bucks(1344) i(13) xxunk(0) out(55) .(9) i(13) would(66) recommend(162) this(28) to(15) bring(467) your(85) parents(1555) or(75) a(14) artsy(8774) side(225) chick(2337) .(9)</td>      <td>3</td>    </tr>    <tr>      <td>xxbos(2) xxmaj(5) this(28) is(19) a(14) really(80) solid(1066) barbershop(8151) right(157) off(145) of(18) xxmaj(5) spring(1050) xxmaj(5) mountain(3221) and(11) the(10) heart(1340) of(18) xxmaj(5) las(542) xxmaj(5) vegas(184) ...(84) xxmaj(5) it(17) 's(37) a(14) classic(1028) place(43) in(22) the(10) haircuts(6187) are(41) great(50) prices(234) xxmaj(5) xxunk(0) is(19) my(23) go(77) to(15) guy(437)</td>      <td>5</td>    </tr>  </tbody>\n",
       "</table>"
      ],
      "text/plain": [
       "<IPython.core.display.HTML object>"
      ]
     },
     "metadata": {},
     "output_type": "display_data"
    }
   ],
   "source": [
    "data_cls.show_batch()"
   ]
  },
  {
   "cell_type": "markdown",
   "metadata": {},
   "source": [
    "## Models"
   ]
  },
  {
   "cell_type": "code",
   "execution_count": 44,
   "metadata": {},
   "outputs": [],
   "source": [
    "from fastai.callbacks import hook_output\n",
    "from fastai.text.learner import RNNTrainer"
   ]
  },
  {
   "cell_type": "code",
   "execution_count": 45,
   "metadata": {},
   "outputs": [],
   "source": [
    "tab_layers = [800, 400]\n",
    "tabular_args = {\n",
    "    'metrics': accuracy, \n",
    "    'ps': [.15, .07], \n",
    "    'emb_drop': 0.4, \n",
    "    #'y_range': [1, 5.1]\n",
    "}"
   ]
  },
  {
   "cell_type": "code",
   "execution_count": 46,
   "metadata": {},
   "outputs": [],
   "source": [
    "bptt = 70\n",
    "emb_size = 400\n",
    "n_hidden = 1150\n",
    "n_layers = 3\n",
    "\n",
    "max_seq = 70*20\n",
    "drop_mult = 1.4\n",
    "\n",
    "text_args = {\n",
    "    'bptt': bptt, \n",
    "    'emb_sz': emb_size, \n",
    "    'nh': n_hidden, \n",
    "    'nl': n_layers,\n",
    "    'drop_mult': drop_mult,\n",
    "    'max_len': max_seq, \n",
    "    'pretrained_model': None\n",
    "}"
   ]
  },
  {
   "cell_type": "code",
   "execution_count": 47,
   "metadata": {},
   "outputs": [],
   "source": [
    "class TabularTextNN(nn.Module):\n",
    "    def __init__(self, data, tab_layers, tab_args={}, text_args={}):\n",
    "        super().__init__()\n",
    "        \n",
    "        tab_learner = tabular_learner(data, tab_layers, **tab_args)\n",
    "        self.tabular_model = tab_learner.model\n",
    "        self.tabular_hook_final_l = hook_output(self.tabular_model.layers[4], detach=False)\n",
    "        \n",
    "        text_class_learner = text_classifier_learner(data, AWD_LSTM)\n",
    "        text_class_learner.load_encoder('lm_ft_enc')\n",
    "        self.text_class_model = text_class_learner.model\n",
    "        \n",
    "        self.lin = nn.Linear(400+400, 200)\n",
    "        self.final_lin = nn.Linear(200, data.c)\n",
    "        \n",
    "    def forward(self, x_cat:Tensor, x_cont:Tensor, text_input:Tuple[Tensor,Tensor]) -> Tensor:\n",
    "        tab_res = self.tabular_model(x_cat, x_cont)\n",
    "        tab_final_l_acts = self.tabular_hook_final_l.stored # => (bs, 400)\n",
    "        \n",
    "        # text_classification_model returns 3 things: probabilities (bs,c), raw_outputs(len=3), outputs(len=3)\n",
    "        # raw_outputs/outputs:(bs, 305, 1150), (bs, 305, 1150), (bs, 305, 400)\n",
    "        text_res, raw_outputs, outputs = self.text_class_model(text_input)\n",
    "        text_final_rnn_output = outputs[-1][:,-1] # => (bs, 400)\n",
    "        \n",
    "        x = torch.cat([tab_final_l_acts, text_final_rnn_output], dim=1)\n",
    "        x = self.final_lin(F.relu(self.lin(x)))\n",
    "        return x, raw_outputs, outputs\n",
    "    \n",
    "    def reset(self):\n",
    "        self.text_class_model.reset()"
   ]
  },
  {
   "cell_type": "markdown",
   "metadata": {},
   "source": [
    "## Training/evaluation"
   ]
  },
  {
   "cell_type": "code",
   "execution_count": 48,
   "metadata": {},
   "outputs": [],
   "source": [
    "model = TabularTextNN(data_cls, tab_layers, tabular_args, text_args)"
   ]
  },
  {
   "cell_type": "code",
   "execution_count": 49,
   "metadata": {
    "scrolled": false
   },
   "outputs": [],
   "source": [
    "# model.tabular_model\n",
    "# model.tabular_model.layers[4]\n",
    "# nn.Sequential(*list(model.tabular_model.children())[3])\n",
    "# nn.Sequential(*list(model.tabular_model.children())[3][:-4])"
   ]
  },
  {
   "cell_type": "code",
   "execution_count": 50,
   "metadata": {},
   "outputs": [],
   "source": [
    "learn = None; gc.collect()\n",
    "learn = Learner(data_cls, model, metrics=[accuracy])"
   ]
  },
  {
   "cell_type": "code",
   "execution_count": 51,
   "metadata": {},
   "outputs": [],
   "source": [
    "learn.callbacks.append(RNNTrainer(learn, bptt))"
   ]
  },
  {
   "cell_type": "code",
   "execution_count": 52,
   "metadata": {},
   "outputs": [
    {
     "data": {
      "text/html": [],
      "text/plain": [
       "<IPython.core.display.HTML object>"
      ]
     },
     "metadata": {},
     "output_type": "display_data"
    },
    {
     "name": "stdout",
     "output_type": "stream",
     "text": [
      "LR Finder is complete, type {learner_name}.recorder.plot() to see the graph.\n"
     ]
    },
    {
     "data": {
      "image/png": "[encoded data removed]",
      "text/plain": [
       "<Figure size 648x432 with 1 Axes>"
      ]
     },
     "metadata": {
      "needs_background": "light"
     },
     "output_type": "display_data"
    }
   ],
   "source": [
    "learn.lr_find()\n",
    "learn.recorder.plot()"
   ]
  },
  {
   "cell_type": "code",
   "execution_count": 53,
   "metadata": {},
   "outputs": [
    {
     "data": {
      "text/html": [
       "<table border=\"1\" class=\"dataframe\">\n",
       "  <thead>\n",
       "    <tr style=\"text-align: left;\">\n",
       "      <th>epoch</th>\n",
       "      <th>train_loss</th>\n",
       "      <th>valid_loss</th>\n",
       "      <th>accuracy</th>\n",
       "      <th>time</th>\n",
       "    </tr>\n",
       "  </thead>\n",
       "  <tbody>\n",
       "    <tr>\n",
       "      <td>0</td>\n",
       "      <td>1.385870</td>\n",
       "      <td>1.222052</td>\n",
       "      <td>0.494333</td>\n",
       "      <td>00:47</td>\n",
       "    </tr>\n",
       "    <tr>\n",
       "      <td>1</td>\n",
       "      <td>1.195254</td>\n",
       "      <td>1.156775</td>\n",
       "      <td>0.520000</td>\n",
       "      <td>00:47</td>\n",
       "    </tr>\n",
       "    <tr>\n",
       "      <td>2</td>\n",
       "      <td>1.139716</td>\n",
       "      <td>1.122331</td>\n",
       "      <td>0.534000</td>\n",
       "      <td>00:46</td>\n",
       "    </tr>\n",
       "    <tr>\n",
       "      <td>3</td>\n",
       "      <td>1.053202</td>\n",
       "      <td>1.089890</td>\n",
       "      <td>0.555000</td>\n",
       "      <td>00:47</td>\n",
       "    </tr>\n",
       "    <tr>\n",
       "      <td>4</td>\n",
       "      <td>1.006932</td>\n",
       "      <td>1.085949</td>\n",
       "      <td>0.554667</td>\n",
       "      <td>00:47</td>\n",
       "    </tr>\n",
       "  </tbody>\n",
       "</table>"
      ],
      "text/plain": [
       "<IPython.core.display.HTML object>"
      ]
     },
     "metadata": {},
     "output_type": "display_data"
    }
   ],
   "source": [
    "learn.fit_one_cycle(5, 1e-4, wd=1e-1)"
   ]
  },
  {
   "cell_type": "markdown",
   "metadata": {},
   "source": [
    "## Review"
   ]
  },
  {
   "cell_type": "code",
   "execution_count": 54,
   "metadata": {},
   "outputs": [],
   "source": [
    "def plot_confusion_matrix(cm, classes,\n",
    "                          normalize=False,\n",
    "                          title='Confusion matrix',\n",
    "                          cmap=plt.cm.Blues):\n",
    "    \"\"\"\n",
    "    This function prints and plots the confusion matrix.\n",
    "    Normalization can be applied by setting `normalize=True`.\n",
    "    \"\"\"\n",
    "    if normalize:\n",
    "        cm = cm.astype('float') / cm.sum(axis=1)[:, np.newaxis]\n",
    "        print(\"Normalized confusion matrix\")\n",
    "    else:\n",
    "        print('Confusion matrix, without normalization')\n",
    "\n",
    "    plt.imshow(cm, interpolation='nearest', cmap=cmap)\n",
    "    plt.title(title)\n",
    "    plt.colorbar()\n",
    "    tick_marks = np.arange(len(classes))\n",
    "    plt.xticks(tick_marks, classes, rotation=45)\n",
    "    plt.yticks(tick_marks, classes)\n",
    "\n",
    "    fmt = '.2f' if normalize else 'd'\n",
    "    thresh = cm.max() / 2.\n",
    "    for i, j in itertools.product(range(cm.shape[0]), range(cm.shape[1])):\n",
    "        plt.text(j, i, format(cm[i, j], fmt),\n",
    "                 horizontalalignment=\"center\",\n",
    "                 color=\"white\" if cm[i, j] > thresh else \"black\")\n",
    "\n",
    "    plt.ylabel('True label')\n",
    "    plt.xlabel('Predicted label')\n",
    "    plt.tight_layout()"
   ]
  },
  {
   "cell_type": "code",
   "execution_count": 55,
   "metadata": {},
   "outputs": [],
   "source": [
    "interp = learn.interpret()"
   ]
  },
  {
   "cell_type": "code",
   "execution_count": 56,
   "metadata": {},
   "outputs": [
    {
     "name": "stdout",
     "output_type": "stream",
     "text": [
      "Confusion matrix, without normalization\n"
     ]
    },
    {
     "data": {
      "image/png": "[encoded data removed]",
      "text/plain": [
       "<Figure size 720x576 with 2 Axes>"
      ]
     },
     "metadata": {
      "needs_background": "light"
     },
     "output_type": "display_data"
    }
   ],
   "source": [
    "cm =interp.confusion_matrix()\n",
    "# interp.top_losses(k=10)\n",
    "\n",
    "plt.figure(figsize=(10,8))\n",
    "plt.grid(False)\n",
    "plot_confusion_matrix(cm, interp.data.train_ds.y.classes)"
   ]
  },
  {
   "cell_type": "code",
   "execution_count": 57,
   "metadata": {},
   "outputs": [
    {
     "data": {
      "text/plain": [
       "torch.return_types.topk(\n",
       "values=tensor([4.4645, 4.0350, 3.9740, 3.9469, 3.8359, 3.7459, 3.7317, 3.7237, 3.7105,\n",
       "        3.6587, 3.6244, 3.6210, 3.5527, 3.4963, 3.4436, 3.4086, 3.3911, 3.3838,\n",
       "        3.3495, 3.3399]),\n",
       "indices=tensor([ 943, 2164, 2665, 2914, 2074, 1174, 2877,  266,  443, 2390,  187,   79,\n",
       "        1053,   12, 2137, 1975, 1134, 2894, 1983,  232]))"
      ]
     },
     "execution_count": 57,
     "metadata": {},
     "output_type": "execute_result"
    }
   ],
   "source": [
    "interp.top_losses(20)"
   ]
  },
  {
   "cell_type": "code",
   "execution_count": null,
   "metadata": {},
   "outputs": [],
   "source": []
  }
 ],
 "metadata": {
  "kernelspec": {
   "display_name": "Python 3",
   "language": "python",
   "name": "python3"
  },
  "language_info": {
   "codemirror_mode": {
    "name": "ipython",
    "version": 3
   },
   "file_extension": ".py",
   "mimetype": "text/x-python",
   "name": "python",
   "nbconvert_exporter": "python",
   "pygments_lexer": "ipython3",
   "version": "3.7.4"
  }
 },
 "nbformat": 4,
 "nbformat_minor": 2
}
