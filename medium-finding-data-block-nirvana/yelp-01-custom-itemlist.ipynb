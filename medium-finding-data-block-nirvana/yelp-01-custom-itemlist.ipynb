{
 "cells": [
  {
   "cell_type": "markdown",
   "metadata": {},
   "source": [
    "# Finding Data Block Nirvana - Part 2\n",
    "\n",
    "This notebook illustrates how to use the custom fastai `ItemList` we created in part 1.  It is heavily annotated to further aid in also understanding how all the different bits in the API interact as well as what is happening at each step and why.\n",
    "\n",
    "Please consult the [fastai docs](https://docs.fast.ai/) for installing required packages and setting up your environment to run the code below.\n",
    "\n",
    "**Part 2** (this notebook) of the accompanying Medium article describing how to use the custom ItemList created in Part 1 can be found [here](tbd).\n",
    "\n",
    "**Part 1** of the accompanying Medium article highlighing the data block API mechanics based on my work here can be found [here](https://medium.com/@wgilliam/finding-data-block-nirvana-a-journey-through-the-fastai-data-block-api-c38210537fe4)."
   ]
  },
  {
   "cell_type": "code",
   "execution_count": 1,
   "metadata": {},
   "outputs": [],
   "source": [
    "%reload_ext autoreload\n",
    "%autoreload 2\n",
    "%matplotlib inline"
   ]
  },
  {
   "cell_type": "markdown",
   "metadata": {},
   "source": [
    "You may have to install some packages before proceeding (see below).\n",
    "\n",
    "Also notice that we took the custom DataBlock API code introduced in part 1 and put it into `utils.py` so that it can be re-used where necessary."
   ]
  },
  {
   "cell_type": "code",
   "execution_count": 2,
   "metadata": {},
   "outputs": [],
   "source": [
    "import pdb\n",
    "\n",
    "from fastai.tabular import *\n",
    "from fastai.text import *\n",
    "from fastai.text.data import _join_texts\n",
    "\n",
    "from utils import *\n",
    "\n",
    "# pandas and plotting config\n",
    "import seaborn as sns\n",
    "sns.set_style('whitegrid')\n",
    "\n",
    "%matplotlib inline\n",
    "plt.rcParams['figure.figsize'] = (9,6)\n",
    "\n",
    "pd.set_option('display.max_rows', 500)\n",
    "pd.set_option('display.max_columns', 500)\n",
    "pd.set_option('display.width', 1000)\n",
    "pd.set_option('display.max_colwidth', 100)"
   ]
  },
  {
   "cell_type": "code",
   "execution_count": 3,
   "metadata": {},
   "outputs": [
    {
     "name": "stdout",
     "output_type": "stream",
     "text": [
      "using GPU: 1\n"
     ]
    }
   ],
   "source": [
    "torch.cuda.set_device(1)\n",
    "print(f'using GPU: {torch.cuda.current_device()}')"
   ]
  },
  {
   "cell_type": "code",
   "execution_count": 4,
   "metadata": {},
   "outputs": [
    {
     "name": "stdout",
     "output_type": "stream",
     "text": [
      "fastai version: 1.0.59\n"
     ]
    }
   ],
   "source": [
    "print(f'fastai version: {__version__}') #=> I test this against 1.0.59"
   ]
  },
  {
   "cell_type": "markdown",
   "metadata": {},
   "source": [
    "## Configuration"
   ]
  },
  {
   "cell_type": "markdown",
   "metadata": {},
   "source": [
    "Make sure you unzip the .csv file in `joined_sample.zip` into `data/yelp_dataset` before proceeding"
   ]
  },
  {
   "cell_type": "code",
   "execution_count": 5,
   "metadata": {},
   "outputs": [],
   "source": [
    "PATH=Path('data/yelp_dataset/')\n",
    "\n",
    "PATH.mkdir(parents=True, exist_ok=True)\n",
    "(PATH/'models').mkdir(parents=True, exist_ok=True)\n",
    "(PATH/'tmp').mkdir(exist_ok=True)"
   ]
  },
  {
   "cell_type": "markdown",
   "metadata": {},
   "source": [
    "## Utility methods"
   ]
  },
  {
   "cell_type": "code",
   "execution_count": 69,
   "metadata": {},
   "outputs": [],
   "source": [
    "# None here in this notebook"
   ]
  },
  {
   "cell_type": "markdown",
   "metadata": {},
   "source": [
    "## Prepare data for training/evaluation"
   ]
  },
  {
   "cell_type": "code",
   "execution_count": 8,
   "metadata": {
    "scrolled": false
   },
   "outputs": [
    {
     "data": {
      "text/plain": [
       "10000"
      ]
     },
     "metadata": {},
     "output_type": "display_data"
    },
    {
     "data": {
      "text/html": [
       "<div>\n",
       "<style scoped>\n",
       "    .dataframe tbody tr th:only-of-type {\n",
       "        vertical-align: middle;\n",
       "    }\n",
       "\n",
       "    .dataframe tbody tr th {\n",
       "        vertical-align: top;\n",
       "    }\n",
       "\n",
       "    .dataframe thead th {\n",
       "        text-align: right;\n",
       "    }\n",
       "</style>\n",
       "<table border=\"1\" class=\"dataframe\">\n",
       "  <thead>\n",
       "    <tr style=\"text-align: right;\">\n",
       "      <th></th>\n",
       "      <th>business_id</th>\n",
       "      <th>cool</th>\n",
       "      <th>date</th>\n",
       "      <th>funny</th>\n",
       "      <th>review_id</th>\n",
       "      <th>stars</th>\n",
       "      <th>text</th>\n",
       "      <th>useful</th>\n",
       "      <th>user_id</th>\n",
       "      <th>user_average_stars</th>\n",
       "      <th>user_compliment_cool</th>\n",
       "      <th>user_compliment_cute</th>\n",
       "      <th>user_compliment_funny</th>\n",
       "      <th>user_compliment_hot</th>\n",
       "      <th>user_compliment_list</th>\n",
       "      <th>user_compliment_more</th>\n",
       "      <th>user_compliment_note</th>\n",
       "      <th>user_compliment_photos</th>\n",
       "      <th>user_compliment_plain</th>\n",
       "      <th>user_compliment_profile</th>\n",
       "      <th>user_compliment_writer</th>\n",
       "      <th>user_cool</th>\n",
       "      <th>user_elite</th>\n",
       "      <th>user_fans</th>\n",
       "      <th>user_friends</th>\n",
       "      <th>user_funny</th>\n",
       "      <th>user_name</th>\n",
       "      <th>user_review_count</th>\n",
       "      <th>user_useful</th>\n",
       "      <th>user_yelping_since</th>\n",
       "      <th>business_address</th>\n",
       "      <th>business_attributes</th>\n",
       "      <th>business_categories</th>\n",
       "      <th>business_city</th>\n",
       "      <th>business_hours</th>\n",
       "      <th>business_is_open</th>\n",
       "      <th>business_latitude</th>\n",
       "      <th>business_longitude</th>\n",
       "      <th>business_name</th>\n",
       "      <th>business_neighborhood</th>\n",
       "      <th>business_postal_code</th>\n",
       "      <th>business_review_count</th>\n",
       "      <th>business_stars</th>\n",
       "      <th>business_state</th>\n",
       "    </tr>\n",
       "  </thead>\n",
       "  <tbody>\n",
       "    <tr>\n",
       "      <th>0</th>\n",
       "      <td>8jpIK1WHmzzbXPaK51GenQ</td>\n",
       "      <td>1</td>\n",
       "      <td>2012-08-08</td>\n",
       "      <td>3</td>\n",
       "      <td>W7wcVRiw5T8TMrmGnxPsxQ</td>\n",
       "      <td>4</td>\n",
       "      <td>I've been here at least 10 times ... I like it ... but its not my favorite.  I always get the sp...</td>\n",
       "      <td>1</td>\n",
       "      <td>g6gTSnUKZIxLZPQVrFKscw</td>\n",
       "      <td>4.14</td>\n",
       "      <td>0</td>\n",
       "      <td>0</td>\n",
       "      <td>0</td>\n",
       "      <td>0</td>\n",
       "      <td>0</td>\n",
       "      <td>0</td>\n",
       "      <td>2</td>\n",
       "      <td>0</td>\n",
       "      <td>0</td>\n",
       "      <td>0</td>\n",
       "      <td>0</td>\n",
       "      <td>0</td>\n",
       "      <td>None</td>\n",
       "      <td>1</td>\n",
       "      <td>sJEgIk45pmVEJAHQMDKi4A, xduGhZ92kLqvTGZ2-zX0hg, UKPkJvtM5ceTng8fG4Wg8A, AIVgQY1-2O8gVFevmys3_Q</td>\n",
       "      <td>0</td>\n",
       "      <td>Debbie</td>\n",
       "      <td>26</td>\n",
       "      <td>1</td>\n",
       "      <td>2011-10-25</td>\n",
       "      <td>4050 W Ray Rd</td>\n",
       "      <td>{'Alcohol': 'none', 'Ambience': \"{'romantic': False, 'intimate': False, 'classy': False, 'hipste...</td>\n",
       "      <td>American (Traditional), Breakfast &amp; Brunch, Sandwiches, Restaurants</td>\n",
       "      <td>Chandler</td>\n",
       "      <td>{'Tuesday': '6:30-14:30', 'Wednesday': '6:30-14:30', 'Thursday': '6:30-14:30', 'Friday': '6:30-1...</td>\n",
       "      <td>0</td>\n",
       "      <td>33.320994</td>\n",
       "      <td>-111.912682</td>\n",
       "      <td>Dessie's Cafe</td>\n",
       "      <td>NaN</td>\n",
       "      <td>85226</td>\n",
       "      <td>67</td>\n",
       "      <td>3.5</td>\n",
       "      <td>AZ</td>\n",
       "    </tr>\n",
       "    <tr>\n",
       "      <th>1</th>\n",
       "      <td>wH4Q0y8C-lkq21yf4WWedw</td>\n",
       "      <td>0</td>\n",
       "      <td>2015-01-31</td>\n",
       "      <td>0</td>\n",
       "      <td>emypFL3PJjQBcllPZw_d5A</td>\n",
       "      <td>5</td>\n",
       "      <td>Although I had heard of Nekter, mainly from seeing it tagged in health conscious friends' IG pos...</td>\n",
       "      <td>2</td>\n",
       "      <td>LAEJWZSvzsfWJ686VOaQig</td>\n",
       "      <td>5.00</td>\n",
       "      <td>0</td>\n",
       "      <td>0</td>\n",
       "      <td>0</td>\n",
       "      <td>0</td>\n",
       "      <td>0</td>\n",
       "      <td>0</td>\n",
       "      <td>0</td>\n",
       "      <td>0</td>\n",
       "      <td>0</td>\n",
       "      <td>0</td>\n",
       "      <td>0</td>\n",
       "      <td>1</td>\n",
       "      <td>None</td>\n",
       "      <td>2</td>\n",
       "      <td>EFFWziYSge9vgL5QOuVodA, urMngjIG5D8Xde67j3AqSg, VLi09RsVRFlz7lizld85DQ, 59o2lrt5U1qxNys7eEsVcA, ...</td>\n",
       "      <td>1</td>\n",
       "      <td>Andrea</td>\n",
       "      <td>5</td>\n",
       "      <td>1</td>\n",
       "      <td>2013-12-24</td>\n",
       "      <td>9301 E Shea Blvd</td>\n",
       "      <td>{'Alcohol': 'none', 'Ambience': \"{'romantic': False, 'intimate': False, 'classy': False, 'hipste...</td>\n",
       "      <td>Juice Bars &amp; Smoothies, Gluten-Free, Food, Ice Cream &amp; Frozen Yogurt, Restaurants, Acai Bowls</td>\n",
       "      <td>Scottsdale</td>\n",
       "      <td>{'Monday': '6:30-20:0', 'Tuesday': '6:30-20:0', 'Wednesday': '6:30-20:0', 'Thursday': '6:30-20:0...</td>\n",
       "      <td>1</td>\n",
       "      <td>33.580474</td>\n",
       "      <td>-111.881062</td>\n",
       "      <td>Nekter Juice Bar</td>\n",
       "      <td>NaN</td>\n",
       "      <td>85260</td>\n",
       "      <td>59</td>\n",
       "      <td>4.0</td>\n",
       "      <td>AZ</td>\n",
       "    </tr>\n",
       "    <tr>\n",
       "      <th>2</th>\n",
       "      <td>cRMC2eQ9CP6ivhEY8EdaGg</td>\n",
       "      <td>1</td>\n",
       "      <td>2010-09-13</td>\n",
       "      <td>0</td>\n",
       "      <td>5X5ISEAp6HFTpMd_wlq_9w</td>\n",
       "      <td>3</td>\n",
       "      <td>Last week I met up with a highschool friend for the first time after highschool graduation for b...</td>\n",
       "      <td>1</td>\n",
       "      <td>TwilnpgwW43r9-O2AS4PDQ</td>\n",
       "      <td>3.14</td>\n",
       "      <td>14</td>\n",
       "      <td>0</td>\n",
       "      <td>14</td>\n",
       "      <td>6</td>\n",
       "      <td>1</td>\n",
       "      <td>4</td>\n",
       "      <td>22</td>\n",
       "      <td>3</td>\n",
       "      <td>64</td>\n",
       "      <td>1</td>\n",
       "      <td>9</td>\n",
       "      <td>2</td>\n",
       "      <td>2011, 2010, 2012</td>\n",
       "      <td>12</td>\n",
       "      <td>TkzLgJrW-OqwJ4Ws5oYBZg, CxDOIDnH8gp9KXzpBHJYXw, AVDCZrLcKlaNhpk_qWtC5g, nCqOSH2I6-k93B04FwouIA, ...</td>\n",
       "      <td>3</td>\n",
       "      <td>Marie</td>\n",
       "      <td>94</td>\n",
       "      <td>0</td>\n",
       "      <td>2010-01-25</td>\n",
       "      <td>459 Church Street, 2nd Floor</td>\n",
       "      <td>{'Alcohol': 'none', 'Ambience': \"{'romantic': False, 'intimate': False, 'classy': False, 'hipste...</td>\n",
       "      <td>Mexican, Restaurants, Asian Fusion</td>\n",
       "      <td>Toronto</td>\n",
       "      <td>{'Monday': '12:0-21:0', 'Tuesday': '12:0-21:0', 'Wednesday': '12:0-21:0', 'Thursday': '12:0-21:0...</td>\n",
       "      <td>0</td>\n",
       "      <td>43.664193</td>\n",
       "      <td>-79.380196</td>\n",
       "      <td>Chino Locos</td>\n",
       "      <td>Church-Wellesley Village</td>\n",
       "      <td>M4Y 2C5</td>\n",
       "      <td>34</td>\n",
       "      <td>3.5</td>\n",
       "      <td>ON</td>\n",
       "    </tr>\n",
       "    <tr>\n",
       "      <th>3</th>\n",
       "      <td>zunMkZ4U2eVojempQtLngg</td>\n",
       "      <td>1</td>\n",
       "      <td>2014-03-07</td>\n",
       "      <td>0</td>\n",
       "      <td>OGekU1U_wWgV--zL2gEgYw</td>\n",
       "      <td>4</td>\n",
       "      <td>A friend and I were driving by and decided to stop in and check out the place.  Glad we did.  We...</td>\n",
       "      <td>1</td>\n",
       "      <td>eITkQlKYsYqOBASP-QS0iQ</td>\n",
       "      <td>3.72</td>\n",
       "      <td>0</td>\n",
       "      <td>0</td>\n",
       "      <td>0</td>\n",
       "      <td>1</td>\n",
       "      <td>0</td>\n",
       "      <td>0</td>\n",
       "      <td>0</td>\n",
       "      <td>0</td>\n",
       "      <td>0</td>\n",
       "      <td>0</td>\n",
       "      <td>0</td>\n",
       "      <td>0</td>\n",
       "      <td>None</td>\n",
       "      <td>1</td>\n",
       "      <td>9RBRKzif1GD03M0bIX2hMQ, PHL0ESwylh6SKdmRsMXF0g, lP5UMXZGJrvWyTKiVC8Ytg, v914os7MSHH1rw378--r5A, ...</td>\n",
       "      <td>4</td>\n",
       "      <td>Sean</td>\n",
       "      <td>69</td>\n",
       "      <td>10</td>\n",
       "      <td>2007-12-03</td>\n",
       "      <td>5830 W Bell Rd</td>\n",
       "      <td>{'Alcohol': 'full_bar', 'Ambience': \"{'romantic': False, 'intimate': False, 'classy': False, 'hi...</td>\n",
       "      <td>Sports Bars, Burgers, Nightlife, Bars, Australian, Restaurants, Sandwiches</td>\n",
       "      <td>Glendale</td>\n",
       "      <td>{'Monday': '11:0-1:0', 'Tuesday': '11:0-1:0', 'Wednesday': '11:0-1:0', 'Thursday': '11:0-2:0', '...</td>\n",
       "      <td>0</td>\n",
       "      <td>33.639158</td>\n",
       "      <td>-112.185110</td>\n",
       "      <td>The Australian AZ</td>\n",
       "      <td>NaN</td>\n",
       "      <td>85308</td>\n",
       "      <td>26</td>\n",
       "      <td>2.5</td>\n",
       "      <td>AZ</td>\n",
       "    </tr>\n",
       "    <tr>\n",
       "      <th>4</th>\n",
       "      <td>1vLf-v7foAu3tJ7vAEoKdA</td>\n",
       "      <td>0</td>\n",
       "      <td>2014-11-26</td>\n",
       "      <td>1</td>\n",
       "      <td>tTe2cLFmpkLop3wKcT0Zgw</td>\n",
       "      <td>5</td>\n",
       "      <td>Our Bulldog LOVES this place and so do we! Wonderful husband and wife team that are true dog lov...</td>\n",
       "      <td>0</td>\n",
       "      <td>l3okl_UjyNdqRKAzYGdWaA</td>\n",
       "      <td>2.95</td>\n",
       "      <td>0</td>\n",
       "      <td>0</td>\n",
       "      <td>0</td>\n",
       "      <td>0</td>\n",
       "      <td>0</td>\n",
       "      <td>0</td>\n",
       "      <td>0</td>\n",
       "      <td>0</td>\n",
       "      <td>0</td>\n",
       "      <td>0</td>\n",
       "      <td>0</td>\n",
       "      <td>0</td>\n",
       "      <td>None</td>\n",
       "      <td>0</td>\n",
       "      <td>g0arZP7975-VYy6Vff0unQ</td>\n",
       "      <td>1</td>\n",
       "      <td>Jim</td>\n",
       "      <td>18</td>\n",
       "      <td>1</td>\n",
       "      <td>2014-04-27</td>\n",
       "      <td>7000 E Shea Blvd, Ste 1360</td>\n",
       "      <td>NaN</td>\n",
       "      <td>Pets, Pet Services, Pet Groomers, Pet Sitting</td>\n",
       "      <td>Scottsdale</td>\n",
       "      <td>{'Monday': '7:30-19:0', 'Tuesday': '7:30-19:0', 'Wednesday': '7:30-19:0', 'Thursday': '7:30-19:0...</td>\n",
       "      <td>1</td>\n",
       "      <td>33.582848</td>\n",
       "      <td>-111.929296</td>\n",
       "      <td>Lori's Grooming</td>\n",
       "      <td>NaN</td>\n",
       "      <td>85254</td>\n",
       "      <td>148</td>\n",
       "      <td>5.0</td>\n",
       "      <td>AZ</td>\n",
       "    </tr>\n",
       "  </tbody>\n",
       "</table>\n",
       "</div>"
      ],
      "text/plain": [
       "              business_id  cool        date  funny               review_id  stars                                                                                                 text  useful                 user_id  user_average_stars  user_compliment_cool  user_compliment_cute  user_compliment_funny  user_compliment_hot  user_compliment_list  user_compliment_more  user_compliment_note  user_compliment_photos  user_compliment_plain  user_compliment_profile  user_compliment_writer  user_cool        user_elite  user_fans                                                                                         user_friends  user_funny user_name  user_review_count  user_useful user_yelping_since              business_address                                                                                  business_attributes                                                                            business_categories business_city  \\\n",
       "0  8jpIK1WHmzzbXPaK51GenQ     1  2012-08-08      3  W7wcVRiw5T8TMrmGnxPsxQ      4  I've been here at least 10 times ... I like it ... but its not my favorite.  I always get the sp...       1  g6gTSnUKZIxLZPQVrFKscw                4.14                     0                     0                      0                    0                     0                     0                     2                       0                      0                        0                       0          0              None          1       sJEgIk45pmVEJAHQMDKi4A, xduGhZ92kLqvTGZ2-zX0hg, UKPkJvtM5ceTng8fG4Wg8A, AIVgQY1-2O8gVFevmys3_Q           0    Debbie                 26            1         2011-10-25                 4050 W Ray Rd  {'Alcohol': 'none', 'Ambience': \"{'romantic': False, 'intimate': False, 'classy': False, 'hipste...                            American (Traditional), Breakfast & Brunch, Sandwiches, Restaurants      Chandler   \n",
       "1  wH4Q0y8C-lkq21yf4WWedw     0  2015-01-31      0  emypFL3PJjQBcllPZw_d5A      5  Although I had heard of Nekter, mainly from seeing it tagged in health conscious friends' IG pos...       2  LAEJWZSvzsfWJ686VOaQig                5.00                     0                     0                      0                    0                     0                     0                     0                       0                      0                        0                       0          1              None          2  EFFWziYSge9vgL5QOuVodA, urMngjIG5D8Xde67j3AqSg, VLi09RsVRFlz7lizld85DQ, 59o2lrt5U1qxNys7eEsVcA, ...           1    Andrea                  5            1         2013-12-24              9301 E Shea Blvd  {'Alcohol': 'none', 'Ambience': \"{'romantic': False, 'intimate': False, 'classy': False, 'hipste...  Juice Bars & Smoothies, Gluten-Free, Food, Ice Cream & Frozen Yogurt, Restaurants, Acai Bowls    Scottsdale   \n",
       "2  cRMC2eQ9CP6ivhEY8EdaGg     1  2010-09-13      0  5X5ISEAp6HFTpMd_wlq_9w      3  Last week I met up with a highschool friend for the first time after highschool graduation for b...       1  TwilnpgwW43r9-O2AS4PDQ                3.14                    14                     0                     14                    6                     1                     4                    22                       3                     64                        1                       9          2  2011, 2010, 2012         12  TkzLgJrW-OqwJ4Ws5oYBZg, CxDOIDnH8gp9KXzpBHJYXw, AVDCZrLcKlaNhpk_qWtC5g, nCqOSH2I6-k93B04FwouIA, ...           3     Marie                 94            0         2010-01-25  459 Church Street, 2nd Floor  {'Alcohol': 'none', 'Ambience': \"{'romantic': False, 'intimate': False, 'classy': False, 'hipste...                                                             Mexican, Restaurants, Asian Fusion       Toronto   \n",
       "3  zunMkZ4U2eVojempQtLngg     1  2014-03-07      0  OGekU1U_wWgV--zL2gEgYw      4  A friend and I were driving by and decided to stop in and check out the place.  Glad we did.  We...       1  eITkQlKYsYqOBASP-QS0iQ                3.72                     0                     0                      0                    1                     0                     0                     0                       0                      0                        0                       0          0              None          1  9RBRKzif1GD03M0bIX2hMQ, PHL0ESwylh6SKdmRsMXF0g, lP5UMXZGJrvWyTKiVC8Ytg, v914os7MSHH1rw378--r5A, ...           4      Sean                 69           10         2007-12-03                5830 W Bell Rd  {'Alcohol': 'full_bar', 'Ambience': \"{'romantic': False, 'intimate': False, 'classy': False, 'hi...                     Sports Bars, Burgers, Nightlife, Bars, Australian, Restaurants, Sandwiches      Glendale   \n",
       "4  1vLf-v7foAu3tJ7vAEoKdA     0  2014-11-26      1  tTe2cLFmpkLop3wKcT0Zgw      5  Our Bulldog LOVES this place and so do we! Wonderful husband and wife team that are true dog lov...       0  l3okl_UjyNdqRKAzYGdWaA                2.95                     0                     0                      0                    0                     0                     0                     0                       0                      0                        0                       0          0              None          0                                                                               g0arZP7975-VYy6Vff0unQ           1       Jim                 18            1         2014-04-27    7000 E Shea Blvd, Ste 1360                                                                                                  NaN                                                  Pets, Pet Services, Pet Groomers, Pet Sitting    Scottsdale   \n",
       "\n",
       "                                                                                        business_hours  business_is_open  business_latitude  business_longitude      business_name     business_neighborhood business_postal_code  business_review_count  business_stars business_state  \n",
       "0  {'Tuesday': '6:30-14:30', 'Wednesday': '6:30-14:30', 'Thursday': '6:30-14:30', 'Friday': '6:30-1...                 0          33.320994         -111.912682      Dessie's Cafe                       NaN                85226                     67             3.5             AZ  \n",
       "1  {'Monday': '6:30-20:0', 'Tuesday': '6:30-20:0', 'Wednesday': '6:30-20:0', 'Thursday': '6:30-20:0...                 1          33.580474         -111.881062   Nekter Juice Bar                       NaN                85260                     59             4.0             AZ  \n",
       "2  {'Monday': '12:0-21:0', 'Tuesday': '12:0-21:0', 'Wednesday': '12:0-21:0', 'Thursday': '12:0-21:0...                 0          43.664193          -79.380196        Chino Locos  Church-Wellesley Village              M4Y 2C5                     34             3.5             ON  \n",
       "3  {'Monday': '11:0-1:0', 'Tuesday': '11:0-1:0', 'Wednesday': '11:0-1:0', 'Thursday': '11:0-2:0', '...                 0          33.639158         -112.185110  The Australian AZ                       NaN                85308                     26             2.5             AZ  \n",
       "4  {'Monday': '7:30-19:0', 'Tuesday': '7:30-19:0', 'Wednesday': '7:30-19:0', 'Thursday': '7:30-19:0...                 1          33.582848         -111.929296    Lori's Grooming                       NaN                85254                    148             5.0             AZ  "
      ]
     },
     "metadata": {},
     "output_type": "display_data"
    },
    {
     "data": {
      "text/html": [
       "<div>\n",
       "<style scoped>\n",
       "    .dataframe tbody tr th:only-of-type {\n",
       "        vertical-align: middle;\n",
       "    }\n",
       "\n",
       "    .dataframe tbody tr th {\n",
       "        vertical-align: top;\n",
       "    }\n",
       "\n",
       "    .dataframe thead th {\n",
       "        text-align: right;\n",
       "    }\n",
       "</style>\n",
       "<table border=\"1\" class=\"dataframe\">\n",
       "  <thead>\n",
       "    <tr style=\"text-align: right;\">\n",
       "      <th></th>\n",
       "      <th>count</th>\n",
       "      <th>mean</th>\n",
       "      <th>std</th>\n",
       "      <th>min</th>\n",
       "      <th>25%</th>\n",
       "      <th>50%</th>\n",
       "      <th>75%</th>\n",
       "      <th>max</th>\n",
       "    </tr>\n",
       "  </thead>\n",
       "  <tbody>\n",
       "    <tr>\n",
       "      <th>cool</th>\n",
       "      <td>10000.0</td>\n",
       "      <td>0.558300</td>\n",
       "      <td>1.975650</td>\n",
       "      <td>0.000000</td>\n",
       "      <td>0.000000</td>\n",
       "      <td>0.000000</td>\n",
       "      <td>0.000000</td>\n",
       "      <td>70.000000</td>\n",
       "    </tr>\n",
       "    <tr>\n",
       "      <th>funny</th>\n",
       "      <td>10000.0</td>\n",
       "      <td>0.534500</td>\n",
       "      <td>4.304098</td>\n",
       "      <td>0.000000</td>\n",
       "      <td>0.000000</td>\n",
       "      <td>0.000000</td>\n",
       "      <td>0.000000</td>\n",
       "      <td>388.000000</td>\n",
       "    </tr>\n",
       "    <tr>\n",
       "      <th>stars</th>\n",
       "      <td>10000.0</td>\n",
       "      <td>3.721300</td>\n",
       "      <td>1.455211</td>\n",
       "      <td>1.000000</td>\n",
       "      <td>3.000000</td>\n",
       "      <td>4.000000</td>\n",
       "      <td>5.000000</td>\n",
       "      <td>5.000000</td>\n",
       "    </tr>\n",
       "    <tr>\n",
       "      <th>useful</th>\n",
       "      <td>10000.0</td>\n",
       "      <td>1.368800</td>\n",
       "      <td>3.678959</td>\n",
       "      <td>0.000000</td>\n",
       "      <td>0.000000</td>\n",
       "      <td>0.000000</td>\n",
       "      <td>2.000000</td>\n",
       "      <td>212.000000</td>\n",
       "    </tr>\n",
       "    <tr>\n",
       "      <th>user_average_stars</th>\n",
       "      <td>10000.0</td>\n",
       "      <td>3.739603</td>\n",
       "      <td>0.802876</td>\n",
       "      <td>1.000000</td>\n",
       "      <td>3.400000</td>\n",
       "      <td>3.810000</td>\n",
       "      <td>4.200000</td>\n",
       "      <td>5.000000</td>\n",
       "    </tr>\n",
       "    <tr>\n",
       "      <th>user_compliment_cool</th>\n",
       "      <td>10000.0</td>\n",
       "      <td>37.518800</td>\n",
       "      <td>308.275809</td>\n",
       "      <td>0.000000</td>\n",
       "      <td>0.000000</td>\n",
       "      <td>0.000000</td>\n",
       "      <td>2.000000</td>\n",
       "      <td>13014.000000</td>\n",
       "    </tr>\n",
       "    <tr>\n",
       "      <th>user_compliment_cute</th>\n",
       "      <td>10000.0</td>\n",
       "      <td>1.695100</td>\n",
       "      <td>31.125260</td>\n",
       "      <td>0.000000</td>\n",
       "      <td>0.000000</td>\n",
       "      <td>0.000000</td>\n",
       "      <td>0.000000</td>\n",
       "      <td>2250.000000</td>\n",
       "    </tr>\n",
       "    <tr>\n",
       "      <th>user_compliment_funny</th>\n",
       "      <td>10000.0</td>\n",
       "      <td>37.518800</td>\n",
       "      <td>308.275809</td>\n",
       "      <td>0.000000</td>\n",
       "      <td>0.000000</td>\n",
       "      <td>0.000000</td>\n",
       "      <td>2.000000</td>\n",
       "      <td>13014.000000</td>\n",
       "    </tr>\n",
       "    <tr>\n",
       "      <th>user_compliment_hot</th>\n",
       "      <td>10000.0</td>\n",
       "      <td>25.273900</td>\n",
       "      <td>240.013823</td>\n",
       "      <td>0.000000</td>\n",
       "      <td>0.000000</td>\n",
       "      <td>0.000000</td>\n",
       "      <td>1.000000</td>\n",
       "      <td>9259.000000</td>\n",
       "    </tr>\n",
       "    <tr>\n",
       "      <th>user_compliment_list</th>\n",
       "      <td>10000.0</td>\n",
       "      <td>1.222300</td>\n",
       "      <td>27.808089</td>\n",
       "      <td>0.000000</td>\n",
       "      <td>0.000000</td>\n",
       "      <td>0.000000</td>\n",
       "      <td>0.000000</td>\n",
       "      <td>2259.000000</td>\n",
       "    </tr>\n",
       "    <tr>\n",
       "      <th>user_compliment_more</th>\n",
       "      <td>10000.0</td>\n",
       "      <td>3.228200</td>\n",
       "      <td>42.844896</td>\n",
       "      <td>0.000000</td>\n",
       "      <td>0.000000</td>\n",
       "      <td>0.000000</td>\n",
       "      <td>1.000000</td>\n",
       "      <td>3574.000000</td>\n",
       "    </tr>\n",
       "    <tr>\n",
       "      <th>user_compliment_note</th>\n",
       "      <td>10000.0</td>\n",
       "      <td>17.064600</td>\n",
       "      <td>121.196187</td>\n",
       "      <td>0.000000</td>\n",
       "      <td>0.000000</td>\n",
       "      <td>0.000000</td>\n",
       "      <td>2.000000</td>\n",
       "      <td>4899.000000</td>\n",
       "    </tr>\n",
       "    <tr>\n",
       "      <th>user_compliment_photos</th>\n",
       "      <td>10000.0</td>\n",
       "      <td>14.587600</td>\n",
       "      <td>189.604656</td>\n",
       "      <td>0.000000</td>\n",
       "      <td>0.000000</td>\n",
       "      <td>0.000000</td>\n",
       "      <td>0.000000</td>\n",
       "      <td>10820.000000</td>\n",
       "    </tr>\n",
       "    <tr>\n",
       "      <th>user_compliment_plain</th>\n",
       "      <td>10000.0</td>\n",
       "      <td>42.968400</td>\n",
       "      <td>351.849322</td>\n",
       "      <td>0.000000</td>\n",
       "      <td>0.000000</td>\n",
       "      <td>0.000000</td>\n",
       "      <td>3.000000</td>\n",
       "      <td>11741.000000</td>\n",
       "    </tr>\n",
       "    <tr>\n",
       "      <th>user_compliment_profile</th>\n",
       "      <td>10000.0</td>\n",
       "      <td>2.686700</td>\n",
       "      <td>65.375613</td>\n",
       "      <td>0.000000</td>\n",
       "      <td>0.000000</td>\n",
       "      <td>0.000000</td>\n",
       "      <td>0.000000</td>\n",
       "      <td>5659.000000</td>\n",
       "    </tr>\n",
       "    <tr>\n",
       "      <th>user_compliment_writer</th>\n",
       "      <td>10000.0</td>\n",
       "      <td>14.075400</td>\n",
       "      <td>117.437035</td>\n",
       "      <td>0.000000</td>\n",
       "      <td>0.000000</td>\n",
       "      <td>0.000000</td>\n",
       "      <td>2.000000</td>\n",
       "      <td>5668.000000</td>\n",
       "    </tr>\n",
       "    <tr>\n",
       "      <th>user_cool</th>\n",
       "      <td>10000.0</td>\n",
       "      <td>228.383500</td>\n",
       "      <td>2234.239711</td>\n",
       "      <td>0.000000</td>\n",
       "      <td>0.000000</td>\n",
       "      <td>0.000000</td>\n",
       "      <td>5.000000</td>\n",
       "      <td>86136.000000</td>\n",
       "    </tr>\n",
       "    <tr>\n",
       "      <th>user_fans</th>\n",
       "      <td>10000.0</td>\n",
       "      <td>11.817500</td>\n",
       "      <td>53.572480</td>\n",
       "      <td>0.000000</td>\n",
       "      <td>0.000000</td>\n",
       "      <td>0.000000</td>\n",
       "      <td>4.000000</td>\n",
       "      <td>1394.000000</td>\n",
       "    </tr>\n",
       "    <tr>\n",
       "      <th>user_funny</th>\n",
       "      <td>10000.0</td>\n",
       "      <td>153.556100</td>\n",
       "      <td>1732.724499</td>\n",
       "      <td>0.000000</td>\n",
       "      <td>0.000000</td>\n",
       "      <td>0.000000</td>\n",
       "      <td>6.000000</td>\n",
       "      <td>83218.000000</td>\n",
       "    </tr>\n",
       "    <tr>\n",
       "      <th>user_review_count</th>\n",
       "      <td>10000.0</td>\n",
       "      <td>121.117200</td>\n",
       "      <td>348.622585</td>\n",
       "      <td>0.000000</td>\n",
       "      <td>7.000000</td>\n",
       "      <td>23.000000</td>\n",
       "      <td>93.250000</td>\n",
       "      <td>9278.000000</td>\n",
       "    </tr>\n",
       "    <tr>\n",
       "      <th>user_useful</th>\n",
       "      <td>10000.0</td>\n",
       "      <td>295.013100</td>\n",
       "      <td>2471.007897</td>\n",
       "      <td>0.000000</td>\n",
       "      <td>0.000000</td>\n",
       "      <td>3.000000</td>\n",
       "      <td>26.000000</td>\n",
       "      <td>91508.000000</td>\n",
       "    </tr>\n",
       "    <tr>\n",
       "      <th>business_is_open</th>\n",
       "      <td>10000.0</td>\n",
       "      <td>0.870600</td>\n",
       "      <td>0.335659</td>\n",
       "      <td>0.000000</td>\n",
       "      <td>1.000000</td>\n",
       "      <td>1.000000</td>\n",
       "      <td>1.000000</td>\n",
       "      <td>1.000000</td>\n",
       "    </tr>\n",
       "    <tr>\n",
       "      <th>business_latitude</th>\n",
       "      <td>10000.0</td>\n",
       "      <td>37.255640</td>\n",
       "      <td>4.180602</td>\n",
       "      <td>-34.513715</td>\n",
       "      <td>33.611538</td>\n",
       "      <td>36.106370</td>\n",
       "      <td>40.448994</td>\n",
       "      <td>54.486937</td>\n",
       "    </tr>\n",
       "    <tr>\n",
       "      <th>business_longitude</th>\n",
       "      <td>10000.0</td>\n",
       "      <td>-102.726057</td>\n",
       "      <td>16.112593</td>\n",
       "      <td>-122.822578</td>\n",
       "      <td>-115.154014</td>\n",
       "      <td>-111.978453</td>\n",
       "      <td>-80.993009</td>\n",
       "      <td>112.092039</td>\n",
       "    </tr>\n",
       "    <tr>\n",
       "      <th>business_review_count</th>\n",
       "      <td>10000.0</td>\n",
       "      <td>368.128600</td>\n",
       "      <td>785.565596</td>\n",
       "      <td>3.000000</td>\n",
       "      <td>35.000000</td>\n",
       "      <td>111.000000</td>\n",
       "      <td>339.000000</td>\n",
       "      <td>7968.000000</td>\n",
       "    </tr>\n",
       "    <tr>\n",
       "      <th>business_stars</th>\n",
       "      <td>10000.0</td>\n",
       "      <td>3.736500</td>\n",
       "      <td>0.752479</td>\n",
       "      <td>1.000000</td>\n",
       "      <td>3.500000</td>\n",
       "      <td>4.000000</td>\n",
       "      <td>4.000000</td>\n",
       "      <td>5.000000</td>\n",
       "    </tr>\n",
       "  </tbody>\n",
       "</table>\n",
       "</div>"
      ],
      "text/plain": [
       "                           count        mean          std         min         25%         50%         75%           max\n",
       "cool                     10000.0    0.558300     1.975650    0.000000    0.000000    0.000000    0.000000     70.000000\n",
       "funny                    10000.0    0.534500     4.304098    0.000000    0.000000    0.000000    0.000000    388.000000\n",
       "stars                    10000.0    3.721300     1.455211    1.000000    3.000000    4.000000    5.000000      5.000000\n",
       "useful                   10000.0    1.368800     3.678959    0.000000    0.000000    0.000000    2.000000    212.000000\n",
       "user_average_stars       10000.0    3.739603     0.802876    1.000000    3.400000    3.810000    4.200000      5.000000\n",
       "user_compliment_cool     10000.0   37.518800   308.275809    0.000000    0.000000    0.000000    2.000000  13014.000000\n",
       "user_compliment_cute     10000.0    1.695100    31.125260    0.000000    0.000000    0.000000    0.000000   2250.000000\n",
       "user_compliment_funny    10000.0   37.518800   308.275809    0.000000    0.000000    0.000000    2.000000  13014.000000\n",
       "user_compliment_hot      10000.0   25.273900   240.013823    0.000000    0.000000    0.000000    1.000000   9259.000000\n",
       "user_compliment_list     10000.0    1.222300    27.808089    0.000000    0.000000    0.000000    0.000000   2259.000000\n",
       "user_compliment_more     10000.0    3.228200    42.844896    0.000000    0.000000    0.000000    1.000000   3574.000000\n",
       "user_compliment_note     10000.0   17.064600   121.196187    0.000000    0.000000    0.000000    2.000000   4899.000000\n",
       "user_compliment_photos   10000.0   14.587600   189.604656    0.000000    0.000000    0.000000    0.000000  10820.000000\n",
       "user_compliment_plain    10000.0   42.968400   351.849322    0.000000    0.000000    0.000000    3.000000  11741.000000\n",
       "user_compliment_profile  10000.0    2.686700    65.375613    0.000000    0.000000    0.000000    0.000000   5659.000000\n",
       "user_compliment_writer   10000.0   14.075400   117.437035    0.000000    0.000000    0.000000    2.000000   5668.000000\n",
       "user_cool                10000.0  228.383500  2234.239711    0.000000    0.000000    0.000000    5.000000  86136.000000\n",
       "user_fans                10000.0   11.817500    53.572480    0.000000    0.000000    0.000000    4.000000   1394.000000\n",
       "user_funny               10000.0  153.556100  1732.724499    0.000000    0.000000    0.000000    6.000000  83218.000000\n",
       "user_review_count        10000.0  121.117200   348.622585    0.000000    7.000000   23.000000   93.250000   9278.000000\n",
       "user_useful              10000.0  295.013100  2471.007897    0.000000    0.000000    3.000000   26.000000  91508.000000\n",
       "business_is_open         10000.0    0.870600     0.335659    0.000000    1.000000    1.000000    1.000000      1.000000\n",
       "business_latitude        10000.0   37.255640     4.180602  -34.513715   33.611538   36.106370   40.448994     54.486937\n",
       "business_longitude       10000.0 -102.726057    16.112593 -122.822578 -115.154014 -111.978453  -80.993009    112.092039\n",
       "business_review_count    10000.0  368.128600   785.565596    3.000000   35.000000  111.000000  339.000000   7968.000000\n",
       "business_stars           10000.0    3.736500     0.752479    1.000000    3.500000    4.000000    4.000000      5.000000"
      ]
     },
     "metadata": {},
     "output_type": "display_data"
    }
   ],
   "source": [
    "train_df = pd.read_csv(PATH/'joined_sample.csv', index_col=None)\n",
    "\n",
    "display(len(train_df))\n",
    "display(train_df.head())\n",
    "display(train_df.describe().T)"
   ]
  },
  {
   "cell_type": "markdown",
   "metadata": {},
   "source": [
    "Define the categorical, continuous, and text column(s) here along with your dependent variable."
   ]
  },
  {
   "cell_type": "code",
   "execution_count": 9,
   "metadata": {},
   "outputs": [],
   "source": [
    "cat_cols = [\n",
    "    'business_id', \n",
    "    'user_id', \n",
    "    'business_is_open', \n",
    "    'business_city', \n",
    "    'business_postal_code', \n",
    "    'business_state'\n",
    "]\n",
    "\n",
    "cont_cols = [\n",
    "    'cool', \n",
    "    'funny',\n",
    "    'useful',\n",
    "    'user_average_stars',\n",
    "    'business_stars'\n",
    "]\n",
    "\n",
    "txt_cols = ['text']\n",
    "\n",
    "dep_var = ['stars']"
   ]
  },
  {
   "cell_type": "code",
   "execution_count": 10,
   "metadata": {},
   "outputs": [
    {
     "data": {
      "text/plain": [
       "5    4368\n",
       "4    2234\n",
       "1    1457\n",
       "3    1098\n",
       "2     843\n",
       "Name: stars, dtype: int64"
      ]
     },
     "execution_count": 10,
     "metadata": {},
     "output_type": "execute_result"
    }
   ],
   "source": [
    "train_df.stars.value_counts()"
   ]
  },
  {
   "cell_type": "markdown",
   "metadata": {},
   "source": [
    "## LM Fine-tuning"
   ]
  },
  {
   "cell_type": "markdown",
   "metadata": {},
   "source": [
    "We fine-tune our ULMFit model against our target corpus just like we do when building a language model for future downstream text classification.\n",
    "\n",
    "Since we are planning using the encoder only in the mixed model, we call `learn.save_encoder()` at the end of this step."
   ]
  },
  {
   "cell_type": "code",
   "execution_count": 11,
   "metadata": {},
   "outputs": [],
   "source": [
    "lm_df = pd.DataFrame(pd.concat([train_df[txt_cols]], axis=0))\n",
    "lm_df[txt_cols].fillna('None', inplace=True)\n",
    "\n",
    "data_lm = (TextList.from_df(lm_df, PATH, cols=txt_cols)\n",
    "            .split_by_rand_pct()\n",
    "            .label_for_lm()\n",
    "            .databunch())\n",
    "\n",
    "data_lm.save('data_lm_export.pkl')"
   ]
  },
  {
   "cell_type": "code",
   "execution_count": 12,
   "metadata": {},
   "outputs": [],
   "source": [
    "data_lm = load_data(PATH, file='data_lm_export.pkl')\n",
    "\n",
    "learn = language_model_learner(data_lm, AWD_LSTM, drop_mult=0.5)"
   ]
  },
  {
   "cell_type": "code",
   "execution_count": 13,
   "metadata": {},
   "outputs": [
    {
     "data": {
      "text/html": [
       "<table border=\"1\" class=\"dataframe\">\n",
       "  <thead>\n",
       "    <tr style=\"text-align: left;\">\n",
       "      <th>epoch</th>\n",
       "      <th>train_loss</th>\n",
       "      <th>valid_loss</th>\n",
       "      <th>accuracy</th>\n",
       "      <th>time</th>\n",
       "    </tr>\n",
       "  </thead>\n",
       "  <tbody>\n",
       "    <tr>\n",
       "      <td>0</td>\n",
       "      <td>4.131930</td>\n",
       "      <td>3.884768</td>\n",
       "      <td>0.274679</td>\n",
       "      <td>00:23</td>\n",
       "    </tr>\n",
       "  </tbody>\n",
       "</table>"
      ],
      "text/plain": [
       "<IPython.core.display.HTML object>"
      ]
     },
     "metadata": {},
     "output_type": "display_data"
    }
   ],
   "source": [
    "learn.fit_one_cycle(1, 1e-2)"
   ]
  },
  {
   "cell_type": "code",
   "execution_count": 14,
   "metadata": {},
   "outputs": [
    {
     "data": {
      "text/html": [
       "<table border=\"1\" class=\"dataframe\">\n",
       "  <thead>\n",
       "    <tr style=\"text-align: left;\">\n",
       "      <th>epoch</th>\n",
       "      <th>train_loss</th>\n",
       "      <th>valid_loss</th>\n",
       "      <th>accuracy</th>\n",
       "      <th>time</th>\n",
       "    </tr>\n",
       "  </thead>\n",
       "  <tbody>\n",
       "    <tr>\n",
       "      <td>0</td>\n",
       "      <td>3.926914</td>\n",
       "      <td>3.849594</td>\n",
       "      <td>0.278418</td>\n",
       "      <td>00:29</td>\n",
       "    </tr>\n",
       "    <tr>\n",
       "      <td>1</td>\n",
       "      <td>3.856327</td>\n",
       "      <td>3.790050</td>\n",
       "      <td>0.285379</td>\n",
       "      <td>00:29</td>\n",
       "    </tr>\n",
       "    <tr>\n",
       "      <td>2</td>\n",
       "      <td>3.783776</td>\n",
       "      <td>3.735549</td>\n",
       "      <td>0.290656</td>\n",
       "      <td>00:29</td>\n",
       "    </tr>\n",
       "    <tr>\n",
       "      <td>3</td>\n",
       "      <td>3.695143</td>\n",
       "      <td>3.699735</td>\n",
       "      <td>0.294224</td>\n",
       "      <td>00:29</td>\n",
       "    </tr>\n",
       "    <tr>\n",
       "      <td>4</td>\n",
       "      <td>3.630828</td>\n",
       "      <td>3.675644</td>\n",
       "      <td>0.296160</td>\n",
       "      <td>00:29</td>\n",
       "    </tr>\n",
       "    <tr>\n",
       "      <td>5</td>\n",
       "      <td>3.570330</td>\n",
       "      <td>3.661651</td>\n",
       "      <td>0.297590</td>\n",
       "      <td>00:29</td>\n",
       "    </tr>\n",
       "    <tr>\n",
       "      <td>6</td>\n",
       "      <td>3.498424</td>\n",
       "      <td>3.653920</td>\n",
       "      <td>0.298870</td>\n",
       "      <td>00:29</td>\n",
       "    </tr>\n",
       "    <tr>\n",
       "      <td>7</td>\n",
       "      <td>3.469429</td>\n",
       "      <td>3.650884</td>\n",
       "      <td>0.299006</td>\n",
       "      <td>00:29</td>\n",
       "    </tr>\n",
       "    <tr>\n",
       "      <td>8</td>\n",
       "      <td>3.456361</td>\n",
       "      <td>3.649604</td>\n",
       "      <td>0.299341</td>\n",
       "      <td>00:29</td>\n",
       "    </tr>\n",
       "    <tr>\n",
       "      <td>9</td>\n",
       "      <td>3.440350</td>\n",
       "      <td>3.649519</td>\n",
       "      <td>0.299337</td>\n",
       "      <td>00:30</td>\n",
       "    </tr>\n",
       "  </tbody>\n",
       "</table>"
      ],
      "text/plain": [
       "<IPython.core.display.HTML object>"
      ]
     },
     "metadata": {},
     "output_type": "display_data"
    }
   ],
   "source": [
    "learn.unfreeze()\n",
    "learn.fit_one_cycle(10, slice(1e-3))"
   ]
  },
  {
   "cell_type": "code",
   "execution_count": 15,
   "metadata": {},
   "outputs": [
    {
     "data": {
      "text/plain": [
       "'Our cats love this funny fun and the kids love what you be doing .'"
      ]
     },
     "execution_count": 15,
     "metadata": {},
     "output_type": "execute_result"
    }
   ],
   "source": [
    "learn.predict(\"Our cats love this funny\", n_words=10)"
   ]
  },
  {
   "cell_type": "code",
   "execution_count": 16,
   "metadata": {},
   "outputs": [],
   "source": [
    "learn.save_encoder('lm_ft_enc')"
   ]
  },
  {
   "cell_type": "markdown",
   "metadata": {},
   "source": [
    "## Build the MixedTabular Databunch"
   ]
  },
  {
   "cell_type": "markdown",
   "metadata": {},
   "source": [
    "If this doesn't look familiar, read the part 1 article."
   ]
  },
  {
   "cell_type": "code",
   "execution_count": 17,
   "metadata": {},
   "outputs": [],
   "source": [
    "procs = [FillMissing, Categorify, Normalize]"
   ]
  },
  {
   "cell_type": "code",
   "execution_count": 18,
   "metadata": {},
   "outputs": [],
   "source": [
    "data_cls = (MixedTabularList.from_df(train_df, cat_cols, cont_cols, txt_cols,\n",
    "                                     vocab=data_lm.train_ds.vocab, procs=procs, path=PATH)\n",
    "          .split_by_rand_pct(valid_pct=0.1, seed=42)\n",
    "          .label_from_df(dep_var)\n",
    "          .databunch(bs=32))"
   ]
  },
  {
   "cell_type": "code",
   "execution_count": 19,
   "metadata": {},
   "outputs": [
    {
     "name": "stdout",
     "output_type": "stream",
     "text": [
      "CATS:\n",
      "['business_id', 'user_id', 'business_is_open', 'business_city', 'business_postal_code', 'business_state']\n",
      "CONTS:\n",
      "['cool', 'funny', 'useful', 'user_average_stars', 'business_stars']\n",
      "TEXT COLS:\n",
      "['text']\n",
      "PROCS:\n",
      "[<class 'fastai.tabular.transform.FillMissing'>, <class 'fastai.tabular.transform.Categorify'>, <class 'fastai.tabular.transform.Normalize'>]\n"
     ]
    }
   ],
   "source": [
    "print(f'CATS:\\n{data_cls.train_ds.cat_names}')\n",
    "print(f'CONTS:\\n{data_cls.train_ds.cont_names}')\n",
    "print(f'TEXT COLS:\\n{data_cls.train_ds.text_cols}')\n",
    "print(f'PROCS:\\n{data_cls.train_ds.procs}')"
   ]
  },
  {
   "cell_type": "code",
   "execution_count": 20,
   "metadata": {},
   "outputs": [
    {
     "data": {
      "text/plain": [
       "(10800, 10800)"
      ]
     },
     "execution_count": 20,
     "metadata": {},
     "output_type": "execute_result"
    }
   ],
   "source": [
    "len(data_cls.train_ds.x.vocab.itos), len(data_cls.valid_ds.x.vocab.itos)"
   ]
  },
  {
   "cell_type": "code",
   "execution_count": 21,
   "metadata": {},
   "outputs": [
    {
     "data": {
      "text/html": [
       "TABULAR:<br>"
      ],
      "text/plain": [
       "<IPython.core.display.HTML object>"
      ]
     },
     "metadata": {},
     "output_type": "display_data"
    },
    {
     "data": {
      "text/html": [
       "<table border=\"1\" class=\"dataframe\">\n",
       "  <thead>\n",
       "    <tr style=\"text-align: right;\">\n",
       "      <th>business_id</th>\n",
       "      <th>user_id</th>\n",
       "      <th>business_is_open</th>\n",
       "      <th>business_city</th>\n",
       "      <th>business_postal_code</th>\n",
       "      <th>business_state</th>\n",
       "      <th>cool</th>\n",
       "      <th>funny</th>\n",
       "      <th>useful</th>\n",
       "      <th>user_average_stars</th>\n",
       "      <th>business_stars</th>\n",
       "      <th>target</th>\n",
       "    </tr>\n",
       "  </thead>\n",
       "  <tbody>\n",
       "    <tr>\n",
       "      <td>JmI9nslLD7KZqRr__Bg6NQ</td>\n",
       "      <td>-TApu59FeOhs2zt0whNCCg</td>\n",
       "      <td>1</td>\n",
       "      <td>Phoenix</td>\n",
       "      <td>85034</td>\n",
       "      <td>AZ</td>\n",
       "      <td>-0.2781</td>\n",
       "      <td>-0.1214</td>\n",
       "      <td>-0.3635</td>\n",
       "      <td>-1.5765</td>\n",
       "      <td>-0.3046</td>\n",
       "      <td>1</td>\n",
       "    </tr>\n",
       "    <tr>\n",
       "      <td>3JnO3AEqRD8DbXkWP-gTFw</td>\n",
       "      <td>A9zfYivHRhmJz0gBvxMNTQ</td>\n",
       "      <td>1</td>\n",
       "      <td>Tempe</td>\n",
       "      <td>85284</td>\n",
       "      <td>AZ</td>\n",
       "      <td>-0.2781</td>\n",
       "      <td>-0.1214</td>\n",
       "      <td>-0.3635</td>\n",
       "      <td>1.5663</td>\n",
       "      <td>0.3582</td>\n",
       "      <td>5</td>\n",
       "    </tr>\n",
       "    <tr>\n",
       "      <td>4JNXUYY8wbaaDmk3BPzlWw</td>\n",
       "      <td>Oixv0VgElz8pxQFp2lkdJg</td>\n",
       "      <td>1</td>\n",
       "      <td>Las Vegas</td>\n",
       "      <td>89109</td>\n",
       "      <td>NV</td>\n",
       "      <td>-0.2781</td>\n",
       "      <td>-0.1214</td>\n",
       "      <td>-0.3635</td>\n",
       "      <td>-0.3095</td>\n",
       "      <td>0.3582</td>\n",
       "      <td>4</td>\n",
       "    </tr>\n",
       "    <tr>\n",
       "      <td>AW66lAeZQW3ss38HjB9ZaA</td>\n",
       "      <td>LKIWblikBUgIJZYnMOfrpA</td>\n",
       "      <td>1</td>\n",
       "      <td>Scottsdale</td>\n",
       "      <td>85260</td>\n",
       "      <td>AZ</td>\n",
       "      <td>-0.2781</td>\n",
       "      <td>-0.1214</td>\n",
       "      <td>-0.3635</td>\n",
       "      <td>-0.8064</td>\n",
       "      <td>0.3582</td>\n",
       "      <td>3</td>\n",
       "    </tr>\n",
       "    <tr>\n",
       "      <td>3ajqOW9A7VhResA08I7RTg</td>\n",
       "      <td>eofcCttybB9kINM9B2ZTEA</td>\n",
       "      <td>1</td>\n",
       "      <td>Las Vegas</td>\n",
       "      <td>89101</td>\n",
       "      <td>NV</td>\n",
       "      <td>0.2132</td>\n",
       "      <td>-0.1214</td>\n",
       "      <td>-0.3635</td>\n",
       "      <td>0.8831</td>\n",
       "      <td>-0.3046</td>\n",
       "      <td>5</td>\n",
       "    </tr>\n",
       "  </tbody>\n",
       "</table>"
      ],
      "text/plain": [
       "<IPython.core.display.HTML object>"
      ]
     },
     "metadata": {},
     "output_type": "display_data"
    },
    {
     "data": {
      "text/html": [
       "TEXT:<br>"
      ],
      "text/plain": [
       "<IPython.core.display.HTML object>"
      ]
     },
     "metadata": {},
     "output_type": "display_data"
    },
    {
     "data": {
      "text/html": [
       "<table border=\"1\" class=\"dataframe\">  <thead>\n",
       "    <tr style=\"text-align: right;\">\n",
       "      <th>text_data</th>      <th>target</th>    </tr>\n",
       "  </thead>\n",
       "  <tbody>  <tbody>    <tr>      <td>xxbos(2) xxmaj(5) worst(527) airport(1159) for(21) xxunk(0) claim(2527) .(9) xxmaj(5) they(30) move(861) xxunk(0) all(53) the(10) time(64) and(11) take(180) forever(1326) to(15) deliver(2081) the(10) bags(1924) .(9) xxmaj(5) should(248) be(46) so(38) much(129) easier(2012) than(121) what(82) they(30) make(145) it(17) .(9)</td>      <td>1</td>    </tr>    <tr>      <td>xxbos(2) xxmaj(5) excellent(242) customer(214) service(61) and(11) awesome(227) sandwiches(636) .(9) xxmaj(5) great(50) place(44) will(80) definitely(123) come(127) back(74) !(20)</td>      <td>5</td>    </tr>    <tr>      <td>xxbos(2) xxmaj(5) came(117) here(58) for(21) an(79) anniversary(2168) dinner(226) with(29) my(23) wife(486) -(43) decided(342) to(15) be(46) a(14) tourist(3054) for(21) a(14) night(173) and(11) enjoy(411) the(10) strip(426) .(9) xxmaj(5) started(451) off(143) with(29) some(91) cocktails(1084) ((54) their(71) french(565) sangria(3695) was(16) particularly(1517) notable(6822) as(47) an(79) interesting(963) and(11) simple(702) choice(670) )(52) .(9) xxmaj(5) server(262) was(16) friendly(122) ,(12) fellow(2570) long(219) time(64) local(516) and(11) xxmaj(5) green(592) xxmaj(5) valley(1217) -(43) xxunk(0) .(9) xxmaj(5) all(53) in(22) all(53) ,(12) food(42) was(16) good(45) ((54) enjoyed(370) the(10) xxmaj(5) frisee(8606) salad(239) the(10) most(203) )(52) ,(12) but(31) ,(12) in(22) my(23) mind(616) ,(12) nothing(269) exceptional(1551) -(43) 3(185) stars(260) for(21) food(42) in(22) my(23) opinion(960) ((54) and(11) i(13) found(259) things(281) a(14) bit(220) pricey(812) -(43) but(31) that(24) is(19) to(15) be(46) expected(650) for(21) a(14) prime(1520) strip(426) location(204) run(608) by(97) a(14) national(4501) xxunk(0) like(59) xxmaj(5) lettuce(1147) xxmaj(5) xxunk(0) xxmaj(5) you(27) -(43) who(147) needs(628) to(15) bring(471) back(74) xxmaj(5) cafe(942) xxmaj(5) xxunk(0) )(52) .(9) xxmaj(5) extra(436) star(422) for(21) the(10) view(754) ((54) sat(501) on(32) the(10) patio(531) -(43) only(95) way(156) to(15) go(77) here(58) -(43) between(558) the(10) misters(6509) and(11) the(10) setting(1494) of(18) the(10) sun(1739) -(43) was(16) quite(303) xxunk(0) on(32) an(79) xxmaj(5) august(3686) evening(679) )(52) and(11) the(10) quality(252) of(18) the(10) people(134) and(11) strip(426) -(43) watching(1214) .(9)</td>      <td>4</td>    </tr>    <tr>      <td>xxbos(2) xxmaj(5) food(42) was(16) tasty(326) but(31) average(547) .(9) xxmaj(5) xxunk(0) could(109) have(35) used(330) a(14) little(133) more(94) seasoning(1882) .(9) xxmaj(5) lamb(893) was(16) tasty(326) .(9) xxmaj(5) service(61) was(16) very(49) attentive(568) though(217) .(9) xxmaj(5) will(80) probably(315) come(127) back(74) .(9) xxmaj(5) did(69) n't(33) really(81) have(35) an(79) issue(716) with(29) the(10) place(44) ,(12) just(65) did(69) n't(33) stand(958) out(56) .(9) xxmaj(5) prices(231) are(41) reasonably(1235) though(217) .(9) xxmaj(5) you(27) can(89) get(67) a(14) sandwhich(6814) ,(12) fries(247) ,(12) and(11) a(14) drink(244) for(21) $(90) 8(598) .(9)</td>      <td>3</td>    </tr>    <tr>      <td>xxbos(2) xxmaj(5) you(27) could(109) go(77) xxunk(0) xxup(6) ham(2044) up(73) in(22) here(58) !(20) !(20) xxmaj(5) we(26) 're(167) do(60) i(13) start(504) ,(12) ,(12) sling(6721) me(51) some(91) xxunk(0) xxmaj(5) hash(1599) ,(12) ,(12) ,(12) bitch(4840) !(20) !(20) !(20)</td>      <td>5</td>    </tr>  </tbody>\n",
       "</table>"
      ],
      "text/plain": [
       "<IPython.core.display.HTML object>"
      ]
     },
     "metadata": {},
     "output_type": "display_data"
    }
   ],
   "source": [
    "data_cls.show_batch()"
   ]
  },
  {
   "cell_type": "markdown",
   "metadata": {},
   "source": [
    "## Models"
   ]
  },
  {
   "cell_type": "code",
   "execution_count": 58,
   "metadata": {},
   "outputs": [],
   "source": [
    "from fastai.callbacks import hook_output\n",
    "from fastai.text.learner import RNNTrainer, masked_concat_pool"
   ]
  },
  {
   "cell_type": "markdown",
   "metadata": {},
   "source": [
    "I'm going to create a couple of configuration dictionaries here to make experimentation easier.  The first is for the tabular model derived from `tabular_learner` and the second is for the model returned from `text_classifier_learner`."
   ]
  },
  {
   "cell_type": "code",
   "execution_count": 59,
   "metadata": {},
   "outputs": [],
   "source": [
    "tab_layers = [200, 100]\n",
    "tabular_args = {\n",
    "    'metrics': accuracy, \n",
    "    'ps': [.05, .03], \n",
    "    'emb_drop': 0.3, \n",
    "    #'y_range': [1, 5.1]\n",
    "}"
   ]
  },
  {
   "cell_type": "code",
   "execution_count": 60,
   "metadata": {},
   "outputs": [],
   "source": [
    "bptt = 70\n",
    "emb_size = 400\n",
    "n_hidden = 1150\n",
    "n_layers = 3\n",
    "\n",
    "max_seq = 70*20\n",
    "drop_mult = 0.5\n",
    "\n",
    "text_args = {\n",
    "    'bptt': bptt, \n",
    "    'drop_mult': drop_mult,\n",
    "    'max_len': max_seq\n",
    "}"
   ]
  },
  {
   "cell_type": "markdown",
   "metadata": {},
   "source": [
    "This is where the fun begins!\n",
    "\n",
    "The results are currently not all that great, and I'm not sure if how I'm using the respective tabular and text classification learner's to build my model is genius or dumb, but it does at least appear a novel way of doing it that kinda works :)\n",
    "\n",
    "For the tabular bits, I chop off the last layer via `tab_learner.model.layers[:-1]` (this layer is the final linear with the outputs being your predicted labels).\n",
    "\n",
    "For the text bits, after loading the fine-tuned LM encoder"
   ]
  },
  {
   "cell_type": "code",
   "execution_count": 62,
   "metadata": {},
   "outputs": [],
   "source": [
    "class TabularTextNN(nn.Module):\n",
    "    def __init__(self, data, tab_layers, tab_args={}, text_args={}):\n",
    "        super().__init__()\n",
    "        \n",
    "        tab_learner = tabular_learner(data, tab_layers, **tab_args)\n",
    "        tab_learner.model.layers = tab_learner.model.layers[:-1]\n",
    "        self.tabular_model = tab_learner.model\n",
    "\n",
    "        text_class_learner = text_classifier_learner(data, AWD_LSTM, **text_args)\n",
    "        text_class_learner.load_encoder('lm_ft_enc')\n",
    "        self.text_enc_model = list(text_class_learner.model.children())[0]\n",
    "        \n",
    "        self.bn_concat = nn.BatchNorm1d(400*3+100)\n",
    "        \n",
    "        self.lin = nn.Linear(400*3+100, 50)\n",
    "        self.final_lin = nn.Linear(50, data.c)\n",
    "        \n",
    "    def forward(self, x_cat:Tensor, x_cont:Tensor, text_input:Tuple[Tensor,Tensor]) -> Tensor:\n",
    "        # grab the tabular results minus the last layer\n",
    "        tab_res = self.tabular_model.forward(x_cat, x_cont)\n",
    "\n",
    "        # grab the results of the encoder\n",
    "        raw_outputs, outputs, mask = self.text_enc_model(text_input)\n",
    "        text_final_rnn_output = masked_concat_pool(outputs, mask) #outputs[-1][:,-1] # => (bs, 400*3)\n",
    "  \n",
    "        # do the concat pooling trick with the tabular and text encoder results\n",
    "        x = torch.cat([tab_res, text_final_rnn_output], dim=1)\n",
    "        x = self.bn_concat(x)\n",
    "        \n",
    "        # run the final results though a couple of linears\n",
    "        x = self.final_lin(F.relu(self.lin(x)))\n",
    "        \n",
    "        # return the goods\n",
    "        return x, raw_outputs, outputs\n",
    "    \n",
    "    def reset(self):\n",
    "        self.text_enc_model.reset()"
   ]
  },
  {
   "cell_type": "markdown",
   "metadata": {},
   "source": [
    "## Training/evaluation"
   ]
  },
  {
   "cell_type": "code",
   "execution_count": 63,
   "metadata": {},
   "outputs": [],
   "source": [
    "model = TabularTextNN(data_cls, tab_layers, tabular_args, text_args)"
   ]
  },
  {
   "cell_type": "code",
   "execution_count": 64,
   "metadata": {},
   "outputs": [],
   "source": [
    "learn = None; gc.collect()\n",
    "learn = Learner(data_cls, model, metrics=[accuracy])"
   ]
  },
  {
   "cell_type": "code",
   "execution_count": 65,
   "metadata": {},
   "outputs": [],
   "source": [
    "learn.callbacks.append(RNNTrainer(learn, bptt))"
   ]
  },
  {
   "cell_type": "code",
   "execution_count": 66,
   "metadata": {},
   "outputs": [
    {
     "data": {
      "text/html": [],
      "text/plain": [
       "<IPython.core.display.HTML object>"
      ]
     },
     "metadata": {},
     "output_type": "display_data"
    },
    {
     "name": "stdout",
     "output_type": "stream",
     "text": [
      "LR Finder is complete, type {learner_name}.recorder.plot() to see the graph.\n"
     ]
    },
    {
     "data": {
      "image/png": "[encoded data removed]",
      "text/plain": [
       "<Figure size 648x432 with 1 Axes>"
      ]
     },
     "metadata": {
      "needs_background": "light"
     },
     "output_type": "display_data"
    }
   ],
   "source": [
    "learn.lr_find()\n",
    "learn.recorder.plot()"
   ]
  },
  {
   "cell_type": "code",
   "execution_count": 67,
   "metadata": {},
   "outputs": [
    {
     "data": {
      "text/html": [
       "<table border=\"1\" class=\"dataframe\">\n",
       "  <thead>\n",
       "    <tr style=\"text-align: left;\">\n",
       "      <th>epoch</th>\n",
       "      <th>train_loss</th>\n",
       "      <th>valid_loss</th>\n",
       "      <th>accuracy</th>\n",
       "      <th>time</th>\n",
       "    </tr>\n",
       "  </thead>\n",
       "  <tbody>\n",
       "    <tr>\n",
       "      <td>0</td>\n",
       "      <td>0.921677</td>\n",
       "      <td>0.861206</td>\n",
       "      <td>0.611000</td>\n",
       "      <td>00:58</td>\n",
       "    </tr>\n",
       "  </tbody>\n",
       "</table>"
      ],
      "text/plain": [
       "<IPython.core.display.HTML object>"
      ]
     },
     "metadata": {},
     "output_type": "display_data"
    }
   ],
   "source": [
    "learn.fit_one_cycle(1, 1e-2, wd=1e-1, pct_start=0.2, moms=(0.8, 0.7))"
   ]
  },
  {
   "cell_type": "code",
   "execution_count": 68,
   "metadata": {},
   "outputs": [
    {
     "data": {
      "text/html": [
       "<table border=\"1\" class=\"dataframe\">\n",
       "  <thead>\n",
       "    <tr style=\"text-align: left;\">\n",
       "      <th>epoch</th>\n",
       "      <th>train_loss</th>\n",
       "      <th>valid_loss</th>\n",
       "      <th>accuracy</th>\n",
       "      <th>time</th>\n",
       "    </tr>\n",
       "  </thead>\n",
       "  <tbody>\n",
       "    <tr>\n",
       "      <td>0</td>\n",
       "      <td>0.751811</td>\n",
       "      <td>0.810603</td>\n",
       "      <td>0.621000</td>\n",
       "      <td>02:18</td>\n",
       "    </tr>\n",
       "    <tr>\n",
       "      <td>1</td>\n",
       "      <td>0.614992</td>\n",
       "      <td>0.790316</td>\n",
       "      <td>0.665000</td>\n",
       "      <td>02:20</td>\n",
       "    </tr>\n",
       "    <tr>\n",
       "      <td>2</td>\n",
       "      <td>0.437589</td>\n",
       "      <td>0.871603</td>\n",
       "      <td>0.650000</td>\n",
       "      <td>02:17</td>\n",
       "    </tr>\n",
       "    <tr>\n",
       "      <td>3</td>\n",
       "      <td>0.331446</td>\n",
       "      <td>0.891004</td>\n",
       "      <td>0.667000</td>\n",
       "      <td>02:17</td>\n",
       "    </tr>\n",
       "    <tr>\n",
       "      <td>4</td>\n",
       "      <td>0.282198</td>\n",
       "      <td>0.910371</td>\n",
       "      <td>0.658000</td>\n",
       "      <td>02:19</td>\n",
       "    </tr>\n",
       "  </tbody>\n",
       "</table>"
      ],
      "text/plain": [
       "<IPython.core.display.HTML object>"
      ]
     },
     "metadata": {},
     "output_type": "display_data"
    }
   ],
   "source": [
    "learn.unfreeze()\n",
    "learn.fit_one_cycle(5, 5e-4, wd=1e-1, pct_start=0.2, moms=(0.8, 0.7))"
   ]
  },
  {
   "cell_type": "markdown",
   "metadata": {},
   "source": [
    "## Review"
   ]
  },
  {
   "cell_type": "code",
   "execution_count": 33,
   "metadata": {},
   "outputs": [],
   "source": [
    "def plot_confusion_matrix(cm, classes,\n",
    "                          normalize=False,\n",
    "                          title='Confusion matrix',\n",
    "                          cmap=plt.cm.Blues):\n",
    "    \"\"\"\n",
    "    This function prints and plots the confusion matrix.\n",
    "    Normalization can be applied by setting `normalize=True`.\n",
    "    \"\"\"\n",
    "    if normalize:\n",
    "        cm = cm.astype('float') / cm.sum(axis=1)[:, np.newaxis]\n",
    "        print(\"Normalized confusion matrix\")\n",
    "    else:\n",
    "        print('Confusion matrix, without normalization')\n",
    "\n",
    "    plt.imshow(cm, interpolation='nearest', cmap=cmap)\n",
    "    plt.title(title)\n",
    "    plt.colorbar()\n",
    "    tick_marks = np.arange(len(classes))\n",
    "    plt.xticks(tick_marks, classes, rotation=45)\n",
    "    plt.yticks(tick_marks, classes)\n",
    "\n",
    "    fmt = '.2f' if normalize else 'd'\n",
    "    thresh = cm.max() / 2.\n",
    "    for i, j in itertools.product(range(cm.shape[0]), range(cm.shape[1])):\n",
    "        plt.text(j, i, format(cm[i, j], fmt),\n",
    "                 horizontalalignment=\"center\",\n",
    "                 color=\"white\" if cm[i, j] > thresh else \"black\")\n",
    "\n",
    "    plt.ylabel('True label')\n",
    "    plt.xlabel('Predicted label')\n",
    "    plt.tight_layout()"
   ]
  },
  {
   "cell_type": "code",
   "execution_count": 34,
   "metadata": {},
   "outputs": [],
   "source": [
    "interp = learn.interpret()"
   ]
  },
  {
   "cell_type": "code",
   "execution_count": 35,
   "metadata": {},
   "outputs": [
    {
     "name": "stdout",
     "output_type": "stream",
     "text": [
      "Confusion matrix, without normalization\n"
     ]
    },
    {
     "data": {
      "image/png": "[encoded data removed]",
      "text/plain": [
       "<Figure size 720x576 with 2 Axes>"
      ]
     },
     "metadata": {
      "needs_background": "light"
     },
     "output_type": "display_data"
    }
   ],
   "source": [
    "cm =interp.confusion_matrix()\n",
    "# interp.top_losses(k=10)\n",
    "\n",
    "plt.figure(figsize=(10,8))\n",
    "plt.grid(False)\n",
    "plot_confusion_matrix(cm, interp.data.train_ds.y.classes)"
   ]
  },
  {
   "cell_type": "code",
   "execution_count": 36,
   "metadata": {},
   "outputs": [
    {
     "data": {
      "text/plain": [
       "torch.return_types.topk(\n",
       "values=tensor([11.1811, 10.2785,  8.8606,  8.2809,  8.0972,  8.0424,  7.8891,  7.7707,\n",
       "         7.5102,  7.4332,  7.4192,  7.4040,  7.3488,  7.2413,  7.0057,  6.9243,\n",
       "         6.8487,  6.7000,  6.5883,  6.5007]),\n",
       "indices=tensor([ 11, 760, 111, 459, 263, 105, 880,  71, 588, 171, 984, 455, 718, 170,\n",
       "        722, 581, 740, 398, 246, 680]))"
      ]
     },
     "execution_count": 36,
     "metadata": {},
     "output_type": "execute_result"
    }
   ],
   "source": [
    "interp.top_losses(20)"
   ]
  },
  {
   "cell_type": "code",
   "execution_count": null,
   "metadata": {},
   "outputs": [],
   "source": []
  }
 ],
 "metadata": {
  "kernelspec": {
   "display_name": "Python 3",
   "language": "python",
   "name": "python3"
  },
  "language_info": {
   "codemirror_mode": {
    "name": "ipython",
    "version": 3
   },
   "file_extension": ".py",
   "mimetype": "text/x-python",
   "name": "python",
   "nbconvert_exporter": "python",
   "pygments_lexer": "ipython3",
   "version": "3.7.4"
  }
 },
 "nbformat": 4,
 "nbformat_minor": 2
}
